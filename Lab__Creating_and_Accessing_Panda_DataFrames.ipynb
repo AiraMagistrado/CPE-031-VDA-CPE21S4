{
  "nbformat": 4,
  "nbformat_minor": 0,
  "metadata": {
    "colab": {
      "provenance": []
    },
    "kernelspec": {
      "name": "python3",
      "display_name": "Python 3"
    },
    "language_info": {
      "name": "python"
    }
  },
  "cells": [
    {
      "cell_type": "code",
      "source": [
        "print(df.loc['Senorita':'China'])"
      ],
      "metadata": {
        "colab": {
          "base_uri": "https://localhost:8080/"
        },
        "outputId": "94cc7455-ac62-4351-f8f3-9bc159fb959f",
        "id": "uVeT3RgWiH_B"
      },
      "execution_count": null,
      "outputs": [
        {
          "output_type": "stream",
          "name": "stdout",
          "text": [
            "Empty DataFrame\n",
            "Columns: [Track.Name, Artist.Name, Genre, Beats.Per.Minute, Energy, Danceability, Loudness..dB.., Liveness]\n",
            "Index: []\n"
          ]
        }
      ]
    },
    {
      "cell_type": "code",
      "source": [
        "print(df.loc['Senorita':'China'])"
      ],
      "metadata": {
        "colab": {
          "base_uri": "https://localhost:8080/"
        },
        "outputId": "94cc7455-ac62-4351-f8f3-9bc159fb959f",
        "id": "k_wKhp5_iMiZ"
      },
      "execution_count": null,
      "outputs": [
        {
          "output_type": "stream",
          "name": "stdout",
          "text": [
            "Empty DataFrame\n",
            "Columns: [Track.Name, Artist.Name, Genre, Beats.Per.Minute, Energy, Danceability, Loudness..dB.., Liveness]\n",
            "Index: []\n"
          ]
        }
      ]
    },
    {
      "cell_type": "code",
      "source": [
        "!pip install pandas"
      ],
      "metadata": {
        "colab": {
          "base_uri": "https://localhost:8080/"
        },
        "id": "sxc0GalrVhCO",
        "outputId": "b92ae0aa-97db-44e9-bbc5-47e0015edbc0"
      },
      "execution_count": null,
      "outputs": [
        {
          "output_type": "stream",
          "name": "stdout",
          "text": [
            "Requirement already satisfied: pandas in /usr/local/lib/python3.10/dist-packages (2.2.2)\n",
            "Requirement already satisfied: numpy>=1.22.4 in /usr/local/lib/python3.10/dist-packages (from pandas) (1.26.4)\n",
            "Requirement already satisfied: python-dateutil>=2.8.2 in /usr/local/lib/python3.10/dist-packages (from pandas) (2.8.2)\n",
            "Requirement already satisfied: pytz>=2020.1 in /usr/local/lib/python3.10/dist-packages (from pandas) (2024.2)\n",
            "Requirement already satisfied: tzdata>=2022.7 in /usr/local/lib/python3.10/dist-packages (from pandas) (2024.2)\n",
            "Requirement already satisfied: six>=1.5 in /usr/local/lib/python3.10/dist-packages (from python-dateutil>=2.8.2->pandas) (1.16.0)\n"
          ]
        }
      ]
    },
    {
      "cell_type": "code",
      "execution_count": null,
      "metadata": {
        "id": "pL92kqf9RzqS",
        "colab": {
          "base_uri": "https://localhost:8080/"
        },
        "outputId": "5422745c-4ab9-4d8e-e5d9-31a11a57c9d8"
      },
      "outputs": [
        {
          "output_type": "stream",
          "name": "stdout",
          "text": [
            "Drive already mounted at /content/drive; to attempt to forcibly remount, call drive.mount(\"/content/drive\", force_remount=True).\n"
          ]
        }
      ],
      "source": [
        "from google.colab import drive\n",
        "drive.mount('/content/drive')"
      ]
    },
    {
      "cell_type": "code",
      "source": [
        "import pandas as pd\n",
        "\n",
        "path=\"/content/drive/MyDrive/DataSet/top50.csv\"\n",
        "df=pd.read_csv(path)\n",
        "df.head(5)"
      ],
      "metadata": {
        "colab": {
          "base_uri": "https://localhost:8080/",
          "height": 206
        },
        "id": "yYb9OWDKTqw_",
        "outputId": "6841938f-6436-4dae-d360-cd3e7d5b71f9"
      },
      "execution_count": 38,
      "outputs": [
        {
          "output_type": "execute_result",
          "data": {
            "text/plain": [
              "   Unnamed: 0                       Track.Name    Artist.Name           Genre  \\\n",
              "0           1                         Se�orita   Shawn Mendes    canadian pop   \n",
              "1           2                            China       Anuel AA  reggaeton flow   \n",
              "2           3    boyfriend (with Social House)  Ariana Grande       dance pop   \n",
              "3           4  Beautiful People (feat. Khalid)     Ed Sheeran             pop   \n",
              "4           5      Goodbyes (Feat. Young Thug)    Post Malone         dfw rap   \n",
              "\n",
              "   Beats.Per.Minute  Energy  Danceability  Loudness..dB..  Liveness  Valence.  \\\n",
              "0               117      55            76              -6         8        75   \n",
              "1               105      81            79              -4         8        61   \n",
              "2               190      80            40              -4        16        70   \n",
              "3                93      65            64              -8         8        55   \n",
              "4               150      65            58              -4        11        18   \n",
              "\n",
              "   Length.  Acousticness..  Speechiness.  Popularity  \n",
              "0      191               4             3          79  \n",
              "1      302               8             9          92  \n",
              "2      186              12            46          85  \n",
              "3      198              12            19          86  \n",
              "4      175              45             7          94  "
            ],
            "text/html": [
              "\n",
              "  <div id=\"df-b200e49e-1428-4bd3-821f-d71bc19e5c68\" class=\"colab-df-container\">\n",
              "    <div>\n",
              "<style scoped>\n",
              "    .dataframe tbody tr th:only-of-type {\n",
              "        vertical-align: middle;\n",
              "    }\n",
              "\n",
              "    .dataframe tbody tr th {\n",
              "        vertical-align: top;\n",
              "    }\n",
              "\n",
              "    .dataframe thead th {\n",
              "        text-align: right;\n",
              "    }\n",
              "</style>\n",
              "<table border=\"1\" class=\"dataframe\">\n",
              "  <thead>\n",
              "    <tr style=\"text-align: right;\">\n",
              "      <th></th>\n",
              "      <th>Unnamed: 0</th>\n",
              "      <th>Track.Name</th>\n",
              "      <th>Artist.Name</th>\n",
              "      <th>Genre</th>\n",
              "      <th>Beats.Per.Minute</th>\n",
              "      <th>Energy</th>\n",
              "      <th>Danceability</th>\n",
              "      <th>Loudness..dB..</th>\n",
              "      <th>Liveness</th>\n",
              "      <th>Valence.</th>\n",
              "      <th>Length.</th>\n",
              "      <th>Acousticness..</th>\n",
              "      <th>Speechiness.</th>\n",
              "      <th>Popularity</th>\n",
              "    </tr>\n",
              "  </thead>\n",
              "  <tbody>\n",
              "    <tr>\n",
              "      <th>0</th>\n",
              "      <td>1</td>\n",
              "      <td>Se�orita</td>\n",
              "      <td>Shawn Mendes</td>\n",
              "      <td>canadian pop</td>\n",
              "      <td>117</td>\n",
              "      <td>55</td>\n",
              "      <td>76</td>\n",
              "      <td>-6</td>\n",
              "      <td>8</td>\n",
              "      <td>75</td>\n",
              "      <td>191</td>\n",
              "      <td>4</td>\n",
              "      <td>3</td>\n",
              "      <td>79</td>\n",
              "    </tr>\n",
              "    <tr>\n",
              "      <th>1</th>\n",
              "      <td>2</td>\n",
              "      <td>China</td>\n",
              "      <td>Anuel AA</td>\n",
              "      <td>reggaeton flow</td>\n",
              "      <td>105</td>\n",
              "      <td>81</td>\n",
              "      <td>79</td>\n",
              "      <td>-4</td>\n",
              "      <td>8</td>\n",
              "      <td>61</td>\n",
              "      <td>302</td>\n",
              "      <td>8</td>\n",
              "      <td>9</td>\n",
              "      <td>92</td>\n",
              "    </tr>\n",
              "    <tr>\n",
              "      <th>2</th>\n",
              "      <td>3</td>\n",
              "      <td>boyfriend (with Social House)</td>\n",
              "      <td>Ariana Grande</td>\n",
              "      <td>dance pop</td>\n",
              "      <td>190</td>\n",
              "      <td>80</td>\n",
              "      <td>40</td>\n",
              "      <td>-4</td>\n",
              "      <td>16</td>\n",
              "      <td>70</td>\n",
              "      <td>186</td>\n",
              "      <td>12</td>\n",
              "      <td>46</td>\n",
              "      <td>85</td>\n",
              "    </tr>\n",
              "    <tr>\n",
              "      <th>3</th>\n",
              "      <td>4</td>\n",
              "      <td>Beautiful People (feat. Khalid)</td>\n",
              "      <td>Ed Sheeran</td>\n",
              "      <td>pop</td>\n",
              "      <td>93</td>\n",
              "      <td>65</td>\n",
              "      <td>64</td>\n",
              "      <td>-8</td>\n",
              "      <td>8</td>\n",
              "      <td>55</td>\n",
              "      <td>198</td>\n",
              "      <td>12</td>\n",
              "      <td>19</td>\n",
              "      <td>86</td>\n",
              "    </tr>\n",
              "    <tr>\n",
              "      <th>4</th>\n",
              "      <td>5</td>\n",
              "      <td>Goodbyes (Feat. Young Thug)</td>\n",
              "      <td>Post Malone</td>\n",
              "      <td>dfw rap</td>\n",
              "      <td>150</td>\n",
              "      <td>65</td>\n",
              "      <td>58</td>\n",
              "      <td>-4</td>\n",
              "      <td>11</td>\n",
              "      <td>18</td>\n",
              "      <td>175</td>\n",
              "      <td>45</td>\n",
              "      <td>7</td>\n",
              "      <td>94</td>\n",
              "    </tr>\n",
              "  </tbody>\n",
              "</table>\n",
              "</div>\n",
              "    <div class=\"colab-df-buttons\">\n",
              "\n",
              "  <div class=\"colab-df-container\">\n",
              "    <button class=\"colab-df-convert\" onclick=\"convertToInteractive('df-b200e49e-1428-4bd3-821f-d71bc19e5c68')\"\n",
              "            title=\"Convert this dataframe to an interactive table.\"\n",
              "            style=\"display:none;\">\n",
              "\n",
              "  <svg xmlns=\"http://www.w3.org/2000/svg\" height=\"24px\" viewBox=\"0 -960 960 960\">\n",
              "    <path d=\"M120-120v-720h720v720H120Zm60-500h600v-160H180v160Zm220 220h160v-160H400v160Zm0 220h160v-160H400v160ZM180-400h160v-160H180v160Zm440 0h160v-160H620v160ZM180-180h160v-160H180v160Zm440 0h160v-160H620v160Z\"/>\n",
              "  </svg>\n",
              "    </button>\n",
              "\n",
              "  <style>\n",
              "    .colab-df-container {\n",
              "      display:flex;\n",
              "      gap: 12px;\n",
              "    }\n",
              "\n",
              "    .colab-df-convert {\n",
              "      background-color: #E8F0FE;\n",
              "      border: none;\n",
              "      border-radius: 50%;\n",
              "      cursor: pointer;\n",
              "      display: none;\n",
              "      fill: #1967D2;\n",
              "      height: 32px;\n",
              "      padding: 0 0 0 0;\n",
              "      width: 32px;\n",
              "    }\n",
              "\n",
              "    .colab-df-convert:hover {\n",
              "      background-color: #E2EBFA;\n",
              "      box-shadow: 0px 1px 2px rgba(60, 64, 67, 0.3), 0px 1px 3px 1px rgba(60, 64, 67, 0.15);\n",
              "      fill: #174EA6;\n",
              "    }\n",
              "\n",
              "    .colab-df-buttons div {\n",
              "      margin-bottom: 4px;\n",
              "    }\n",
              "\n",
              "    [theme=dark] .colab-df-convert {\n",
              "      background-color: #3B4455;\n",
              "      fill: #D2E3FC;\n",
              "    }\n",
              "\n",
              "    [theme=dark] .colab-df-convert:hover {\n",
              "      background-color: #434B5C;\n",
              "      box-shadow: 0px 1px 3px 1px rgba(0, 0, 0, 0.15);\n",
              "      filter: drop-shadow(0px 1px 2px rgba(0, 0, 0, 0.3));\n",
              "      fill: #FFFFFF;\n",
              "    }\n",
              "  </style>\n",
              "\n",
              "    <script>\n",
              "      const buttonEl =\n",
              "        document.querySelector('#df-b200e49e-1428-4bd3-821f-d71bc19e5c68 button.colab-df-convert');\n",
              "      buttonEl.style.display =\n",
              "        google.colab.kernel.accessAllowed ? 'block' : 'none';\n",
              "\n",
              "      async function convertToInteractive(key) {\n",
              "        const element = document.querySelector('#df-b200e49e-1428-4bd3-821f-d71bc19e5c68');\n",
              "        const dataTable =\n",
              "          await google.colab.kernel.invokeFunction('convertToInteractive',\n",
              "                                                    [key], {});\n",
              "        if (!dataTable) return;\n",
              "\n",
              "        const docLinkHtml = 'Like what you see? Visit the ' +\n",
              "          '<a target=\"_blank\" href=https://colab.research.google.com/notebooks/data_table.ipynb>data table notebook</a>'\n",
              "          + ' to learn more about interactive tables.';\n",
              "        element.innerHTML = '';\n",
              "        dataTable['output_type'] = 'display_data';\n",
              "        await google.colab.output.renderOutput(dataTable, element);\n",
              "        const docLink = document.createElement('div');\n",
              "        docLink.innerHTML = docLinkHtml;\n",
              "        element.appendChild(docLink);\n",
              "      }\n",
              "    </script>\n",
              "  </div>\n",
              "\n",
              "\n",
              "<div id=\"df-c81e11fd-0a89-4265-9407-3510ebe1a8ce\">\n",
              "  <button class=\"colab-df-quickchart\" onclick=\"quickchart('df-c81e11fd-0a89-4265-9407-3510ebe1a8ce')\"\n",
              "            title=\"Suggest charts\"\n",
              "            style=\"display:none;\">\n",
              "\n",
              "<svg xmlns=\"http://www.w3.org/2000/svg\" height=\"24px\"viewBox=\"0 0 24 24\"\n",
              "     width=\"24px\">\n",
              "    <g>\n",
              "        <path d=\"M19 3H5c-1.1 0-2 .9-2 2v14c0 1.1.9 2 2 2h14c1.1 0 2-.9 2-2V5c0-1.1-.9-2-2-2zM9 17H7v-7h2v7zm4 0h-2V7h2v10zm4 0h-2v-4h2v4z\"/>\n",
              "    </g>\n",
              "</svg>\n",
              "  </button>\n",
              "\n",
              "<style>\n",
              "  .colab-df-quickchart {\n",
              "      --bg-color: #E8F0FE;\n",
              "      --fill-color: #1967D2;\n",
              "      --hover-bg-color: #E2EBFA;\n",
              "      --hover-fill-color: #174EA6;\n",
              "      --disabled-fill-color: #AAA;\n",
              "      --disabled-bg-color: #DDD;\n",
              "  }\n",
              "\n",
              "  [theme=dark] .colab-df-quickchart {\n",
              "      --bg-color: #3B4455;\n",
              "      --fill-color: #D2E3FC;\n",
              "      --hover-bg-color: #434B5C;\n",
              "      --hover-fill-color: #FFFFFF;\n",
              "      --disabled-bg-color: #3B4455;\n",
              "      --disabled-fill-color: #666;\n",
              "  }\n",
              "\n",
              "  .colab-df-quickchart {\n",
              "    background-color: var(--bg-color);\n",
              "    border: none;\n",
              "    border-radius: 50%;\n",
              "    cursor: pointer;\n",
              "    display: none;\n",
              "    fill: var(--fill-color);\n",
              "    height: 32px;\n",
              "    padding: 0;\n",
              "    width: 32px;\n",
              "  }\n",
              "\n",
              "  .colab-df-quickchart:hover {\n",
              "    background-color: var(--hover-bg-color);\n",
              "    box-shadow: 0 1px 2px rgba(60, 64, 67, 0.3), 0 1px 3px 1px rgba(60, 64, 67, 0.15);\n",
              "    fill: var(--button-hover-fill-color);\n",
              "  }\n",
              "\n",
              "  .colab-df-quickchart-complete:disabled,\n",
              "  .colab-df-quickchart-complete:disabled:hover {\n",
              "    background-color: var(--disabled-bg-color);\n",
              "    fill: var(--disabled-fill-color);\n",
              "    box-shadow: none;\n",
              "  }\n",
              "\n",
              "  .colab-df-spinner {\n",
              "    border: 2px solid var(--fill-color);\n",
              "    border-color: transparent;\n",
              "    border-bottom-color: var(--fill-color);\n",
              "    animation:\n",
              "      spin 1s steps(1) infinite;\n",
              "  }\n",
              "\n",
              "  @keyframes spin {\n",
              "    0% {\n",
              "      border-color: transparent;\n",
              "      border-bottom-color: var(--fill-color);\n",
              "      border-left-color: var(--fill-color);\n",
              "    }\n",
              "    20% {\n",
              "      border-color: transparent;\n",
              "      border-left-color: var(--fill-color);\n",
              "      border-top-color: var(--fill-color);\n",
              "    }\n",
              "    30% {\n",
              "      border-color: transparent;\n",
              "      border-left-color: var(--fill-color);\n",
              "      border-top-color: var(--fill-color);\n",
              "      border-right-color: var(--fill-color);\n",
              "    }\n",
              "    40% {\n",
              "      border-color: transparent;\n",
              "      border-right-color: var(--fill-color);\n",
              "      border-top-color: var(--fill-color);\n",
              "    }\n",
              "    60% {\n",
              "      border-color: transparent;\n",
              "      border-right-color: var(--fill-color);\n",
              "    }\n",
              "    80% {\n",
              "      border-color: transparent;\n",
              "      border-right-color: var(--fill-color);\n",
              "      border-bottom-color: var(--fill-color);\n",
              "    }\n",
              "    90% {\n",
              "      border-color: transparent;\n",
              "      border-bottom-color: var(--fill-color);\n",
              "    }\n",
              "  }\n",
              "</style>\n",
              "\n",
              "  <script>\n",
              "    async function quickchart(key) {\n",
              "      const quickchartButtonEl =\n",
              "        document.querySelector('#' + key + ' button');\n",
              "      quickchartButtonEl.disabled = true;  // To prevent multiple clicks.\n",
              "      quickchartButtonEl.classList.add('colab-df-spinner');\n",
              "      try {\n",
              "        const charts = await google.colab.kernel.invokeFunction(\n",
              "            'suggestCharts', [key], {});\n",
              "      } catch (error) {\n",
              "        console.error('Error during call to suggestCharts:', error);\n",
              "      }\n",
              "      quickchartButtonEl.classList.remove('colab-df-spinner');\n",
              "      quickchartButtonEl.classList.add('colab-df-quickchart-complete');\n",
              "    }\n",
              "    (() => {\n",
              "      let quickchartButtonEl =\n",
              "        document.querySelector('#df-c81e11fd-0a89-4265-9407-3510ebe1a8ce button');\n",
              "      quickchartButtonEl.style.display =\n",
              "        google.colab.kernel.accessAllowed ? 'block' : 'none';\n",
              "    })();\n",
              "  </script>\n",
              "</div>\n",
              "\n",
              "    </div>\n",
              "  </div>\n"
            ],
            "application/vnd.google.colaboratory.intrinsic+json": {
              "type": "dataframe",
              "variable_name": "df",
              "summary": "{\n  \"name\": \"df\",\n  \"rows\": 50,\n  \"fields\": [\n    {\n      \"column\": \"Unnamed: 0\",\n      \"properties\": {\n        \"dtype\": \"number\",\n        \"std\": 14,\n        \"min\": 1,\n        \"max\": 50,\n        \"num_unique_values\": 50,\n        \"samples\": [\n          14,\n          40,\n          31\n        ],\n        \"semantic_type\": \"\",\n        \"description\": \"\"\n      }\n    },\n    {\n      \"column\": \"Track.Name\",\n      \"properties\": {\n        \"dtype\": \"string\",\n        \"num_unique_values\": 50,\n        \"samples\": [\n          \"Otro Trago - Remix\",\n          \"fuck, i'm lonely (with Anne-Marie) - from \\ufffd13 Reasons Why: Season 3\\ufffd\",\n          \"Takeaway\"\n        ],\n        \"semantic_type\": \"\",\n        \"description\": \"\"\n      }\n    },\n    {\n      \"column\": \"Artist.Name\",\n      \"properties\": {\n        \"dtype\": \"string\",\n        \"num_unique_values\": 38,\n        \"samples\": [\n          \"Lady Gaga\",\n          \"Marshmello\",\n          \"Post Malone\"\n        ],\n        \"semantic_type\": \"\",\n        \"description\": \"\"\n      }\n    },\n    {\n      \"column\": \"Genre\",\n      \"properties\": {\n        \"dtype\": \"category\",\n        \"num_unique_values\": 21,\n        \"samples\": [\n          \"canadian pop\",\n          \"big room\",\n          \"edm\"\n        ],\n        \"semantic_type\": \"\",\n        \"description\": \"\"\n      }\n    },\n    {\n      \"column\": \"Beats.Per.Minute\",\n      \"properties\": {\n        \"dtype\": \"number\",\n        \"std\": 30,\n        \"min\": 85,\n        \"max\": 190,\n        \"num_unique_values\": 31,\n        \"samples\": [\n          138,\n          130,\n          140\n        ],\n        \"semantic_type\": \"\",\n        \"description\": \"\"\n      }\n    },\n    {\n      \"column\": \"Energy\",\n      \"properties\": {\n        \"dtype\": \"number\",\n        \"std\": 14,\n        \"min\": 32,\n        \"max\": 88,\n        \"num_unique_values\": 31,\n        \"samples\": [\n          56,\n          74,\n          88\n        ],\n        \"semantic_type\": \"\",\n        \"description\": \"\"\n      }\n    },\n    {\n      \"column\": \"Danceability\",\n      \"properties\": {\n        \"dtype\": \"number\",\n        \"std\": 11,\n        \"min\": 29,\n        \"max\": 90,\n        \"num_unique_values\": 29,\n        \"samples\": [\n          90,\n          72,\n          50\n        ],\n        \"semantic_type\": \"\",\n        \"description\": \"\"\n      }\n    },\n    {\n      \"column\": \"Loudness..dB..\",\n      \"properties\": {\n        \"dtype\": \"number\",\n        \"std\": 2,\n        \"min\": -11,\n        \"max\": -2,\n        \"num_unique_values\": 9,\n        \"samples\": [\n          -3,\n          -4,\n          -2\n        ],\n        \"semantic_type\": \"\",\n        \"description\": \"\"\n      }\n    },\n    {\n      \"column\": \"Liveness\",\n      \"properties\": {\n        \"dtype\": \"number\",\n        \"std\": 11,\n        \"min\": 5,\n        \"max\": 58,\n        \"num_unique_values\": 22,\n        \"samples\": [\n          8,\n          18,\n          6\n        ],\n        \"semantic_type\": \"\",\n        \"description\": \"\"\n      }\n    },\n    {\n      \"column\": \"Valence.\",\n      \"properties\": {\n        \"dtype\": \"number\",\n        \"std\": 22,\n        \"min\": 10,\n        \"max\": 95,\n        \"num_unique_values\": 39,\n        \"samples\": [\n          32,\n          73,\n          18\n        ],\n        \"semantic_type\": \"\",\n        \"description\": \"\"\n      }\n    },\n    {\n      \"column\": \"Length.\",\n      \"properties\": {\n        \"dtype\": \"number\",\n        \"std\": 39,\n        \"min\": 115,\n        \"max\": 309,\n        \"num_unique_values\": 44,\n        \"samples\": [\n          199,\n          195,\n          210\n        ],\n        \"semantic_type\": \"\",\n        \"description\": \"\"\n      }\n    },\n    {\n      \"column\": \"Acousticness..\",\n      \"properties\": {\n        \"dtype\": \"number\",\n        \"std\": 18,\n        \"min\": 1,\n        \"max\": 75,\n        \"num_unique_values\": 35,\n        \"samples\": [\n          22,\n          10,\n          3\n        ],\n        \"semantic_type\": \"\",\n        \"description\": \"\"\n      }\n    },\n    {\n      \"column\": \"Speechiness.\",\n      \"properties\": {\n        \"dtype\": \"number\",\n        \"std\": 11,\n        \"min\": 3,\n        \"max\": 46,\n        \"num_unique_values\": 24,\n        \"samples\": [\n          38,\n          30,\n          3\n        ],\n        \"semantic_type\": \"\",\n        \"description\": \"\"\n      }\n    },\n    {\n      \"column\": \"Popularity\",\n      \"properties\": {\n        \"dtype\": \"number\",\n        \"std\": 4,\n        \"min\": 70,\n        \"max\": 95,\n        \"num_unique_values\": 18,\n        \"samples\": [\n          79,\n          92,\n          95\n        ],\n        \"semantic_type\": \"\",\n        \"description\": \"\"\n      }\n    }\n  ]\n}"
            }
          },
          "metadata": {},
          "execution_count": 38
        }
      ]
    },
    {
      "cell_type": "code",
      "source": [
        "import pandas as pd\n",
        "path = \"/content/drive/MyDrive/DataSet/top50.csv\"\n",
        "df = pd.read_csv(path)\n",
        "print(df)"
      ],
      "metadata": {
        "colab": {
          "base_uri": "https://localhost:8080/"
        },
        "id": "6hnU7jjYaNjW",
        "outputId": "b0187e36-0d06-4bd8-cae6-214bce8ad794"
      },
      "execution_count": 39,
      "outputs": [
        {
          "output_type": "stream",
          "name": "stdout",
          "text": [
            "    Unnamed: 0                                         Track.Name  \\\n",
            "0            1                                           Se�orita   \n",
            "1            2                                              China   \n",
            "2            3                      boyfriend (with Social House)   \n",
            "3            4                    Beautiful People (feat. Khalid)   \n",
            "4            5                        Goodbyes (Feat. Young Thug)   \n",
            "5            6                  I Don't Care (with Justin Bieber)   \n",
            "6            7                                             Ransom   \n",
            "7            8                                  How Do You Sleep?   \n",
            "8            9                              Old Town Road - Remix   \n",
            "9           10                                            bad guy   \n",
            "10          11                                           Callaita   \n",
            "11          12              Loco Contigo (feat. J. Balvin & Tyga)   \n",
            "12          13                                  Someone You Loved   \n",
            "13          14                                 Otro Trago - Remix   \n",
            "14          15           Money In The Grave (Drake ft. Rick Ross)   \n",
            "15          16                          No Guidance (feat. Drake)   \n",
            "16          17                                         LA CANCI�N   \n",
            "17          18      Sunflower - Spider-Man: Into the Spider-Verse   \n",
            "18          19                                             Lalala   \n",
            "19          20                                        Truth Hurts   \n",
            "20          21                                Piece Of Your Heart   \n",
            "21          22                                             Panini   \n",
            "22          23                               No Me Conoce - Remix   \n",
            "23          24                                    Soltera - Remix   \n",
            "24          25                       bad guy (with Justin Bieber)   \n",
            "25          26                                If I Can't Have You   \n",
            "26          27                                       Dance Monkey   \n",
            "27          28                                           It's You   \n",
            "28          29                                          Con Calma   \n",
            "29          30                                      QUE PRETENDES   \n",
            "30          31                                           Takeaway   \n",
            "31          32                                            7 rings   \n",
            "32          33                                  0.958333333333333   \n",
            "33          34          The London (feat. J. Cole & Travis Scott)   \n",
            "34          35                                  Never Really Over   \n",
            "35          36  Summer Days (feat. Macklemore & Patrick Stump ...   \n",
            "36          37                                         Otro Trago   \n",
            "37          38                     Antisocial (with Travis Scott)   \n",
            "38          39                                             Sucker   \n",
            "39          40  fuck, i'm lonely (with Anne-Marie) - from �13 ...   \n",
            "40          41                                        Higher Love   \n",
            "41          42                              You Need To Calm Down   \n",
            "42          43                                            Shallow   \n",
            "43          44                                               Talk   \n",
            "44          45                                         Con Altura   \n",
            "45          46                                    One Thing Right   \n",
            "46          47                                          Te Robar�   \n",
            "47          48                                            Happier   \n",
            "48          49                                      Call You Mine   \n",
            "49          50      Cross Me (feat. Chance the Rapper & PnB Rock)   \n",
            "\n",
            "         Artist.Name             Genre  Beats.Per.Minute  Energy  \\\n",
            "0       Shawn Mendes      canadian pop               117      55   \n",
            "1           Anuel AA    reggaeton flow               105      81   \n",
            "2      Ariana Grande         dance pop               190      80   \n",
            "3         Ed Sheeran               pop                93      65   \n",
            "4        Post Malone           dfw rap               150      65   \n",
            "5         Ed Sheeran               pop               102      68   \n",
            "6          Lil Tecca        trap music               180      64   \n",
            "7          Sam Smith               pop               111      68   \n",
            "8          Lil Nas X       country rap               136      62   \n",
            "9      Billie Eilish        electropop               135      43   \n",
            "10         Bad Bunny         reggaeton               176      62   \n",
            "11          DJ Snake         dance pop                96      71   \n",
            "12     Lewis Capaldi               pop               110      41   \n",
            "13              Sech    panamanian pop               176      79   \n",
            "14             Drake  canadian hip hop               101      50   \n",
            "15       Chris Brown         dance pop                93      45   \n",
            "16          J Balvin             latin               176      65   \n",
            "17       Post Malone           dfw rap                90      48   \n",
            "18               Y2K  canadian hip hop               130      39   \n",
            "19             Lizzo       escape room               158      62   \n",
            "20            MEDUZA         pop house               124      74   \n",
            "21         Lil Nas X       country rap               154      59   \n",
            "22       Jhay Cortez    reggaeton flow                92      79   \n",
            "23             Lunay             latin                92      78   \n",
            "24     Billie Eilish        electropop               135      45   \n",
            "25      Shawn Mendes      canadian pop               124      82   \n",
            "26       Tones and I    australian pop                98      59   \n",
            "27         Ali Gatie  canadian hip hop                96      46   \n",
            "28      Daddy Yankee             latin                94      86   \n",
            "29          J Balvin             latin                93      79   \n",
            "30  The Chainsmokers               edm                85      51   \n",
            "31     Ariana Grande         dance pop               140      32   \n",
            "32            Maluma         reggaeton                96      71   \n",
            "33        Young Thug       atl hip hop                98      59   \n",
            "34        Katy Perry         dance pop               100      88   \n",
            "35     Martin Garrix          big room               114      72   \n",
            "36              Sech    panamanian pop               176      70   \n",
            "37        Ed Sheeran               pop               152      82   \n",
            "38    Jonas Brothers          boy band               138      73   \n",
            "39              Lauv         dance pop                95      56   \n",
            "40              Kygo               edm               104      68   \n",
            "41      Taylor Swift         dance pop                85      68   \n",
            "42         Lady Gaga         dance pop                96      39   \n",
            "43            Khalid               pop               136      40   \n",
            "44           ROSAL�A    r&b en espanol                98      69   \n",
            "45        Marshmello           brostep                88      62   \n",
            "46         Nicky Jam             latin               176      75   \n",
            "47        Marshmello           brostep               100      79   \n",
            "48  The Chainsmokers               edm               104      70   \n",
            "49        Ed Sheeran               pop                95      79   \n",
            "\n",
            "    Danceability  Loudness..dB..  Liveness  Valence.  Length.  Acousticness..  \\\n",
            "0             76              -6         8        75      191               4   \n",
            "1             79              -4         8        61      302               8   \n",
            "2             40              -4        16        70      186              12   \n",
            "3             64              -8         8        55      198              12   \n",
            "4             58              -4        11        18      175              45   \n",
            "5             80              -5         9        84      220               9   \n",
            "6             75              -6         7        23      131               2   \n",
            "7             48              -5         8        35      202              15   \n",
            "8             88              -6        11        64      157               5   \n",
            "9             70             -11        10        56      194              33   \n",
            "10            61              -5        24        24      251              60   \n",
            "11            82              -4        15        38      185              28   \n",
            "12            50              -6        11        45      182              75   \n",
            "13            73              -2         6        76      288               7   \n",
            "14            83              -4        12        10      205              10   \n",
            "15            70              -7        16        14      261              12   \n",
            "16            75              -6        11        43      243              15   \n",
            "17            76              -6         7        91      158              56   \n",
            "18            84              -8        14        50      161              18   \n",
            "19            72              -3        12        41      173              11   \n",
            "20            68              -7         7        63      153               4   \n",
            "21            70              -6        12        48      115              34   \n",
            "22            81              -4         9        58      309              14   \n",
            "23            80              -4        44        80      266              36   \n",
            "24            67             -11        12        68      195              25   \n",
            "25            69              -4        13        87      191              49   \n",
            "26            82              -6        18        54      210              69   \n",
            "27            73              -7        19        40      213              37   \n",
            "28            74              -3         6        66      193              11   \n",
            "29            64              -4        36        94      222               3   \n",
            "30            29              -8        10        36      210              12   \n",
            "31            78             -11         9        33      179              59   \n",
            "32            78              -5         9        68      176              22   \n",
            "33            80              -7        13        18      200               2   \n",
            "34            77              -5        32        39      224              19   \n",
            "35            66              -7        14        32      164              18   \n",
            "36            75              -5        11        62      226              14   \n",
            "37            72              -5        36        91      162              13   \n",
            "38            84              -5        11        95      181               4   \n",
            "39            81              -6         6        68      199              48   \n",
            "40            69              -7        10        40      228               2   \n",
            "41            77              -6         7        73      171               1   \n",
            "42            57              -6        23        32      216              37   \n",
            "43            90              -9         6        35      198               5   \n",
            "44            88              -4         5        75      162              39   \n",
            "45            66              -2        58        44      182               7   \n",
            "46            67              -4         8        80      202              24   \n",
            "47            69              -3        17        67      214              19   \n",
            "48            59              -6        41        50      218              23   \n",
            "49            75              -6         7        61      206              21   \n",
            "\n",
            "    Speechiness.  Popularity  \n",
            "0              3          79  \n",
            "1              9          92  \n",
            "2             46          85  \n",
            "3             19          86  \n",
            "4              7          94  \n",
            "5              4          84  \n",
            "6             29          92  \n",
            "7              9          90  \n",
            "8             10          87  \n",
            "9             38          95  \n",
            "10            31          93  \n",
            "11             7          86  \n",
            "12             3          88  \n",
            "13            20          87  \n",
            "14             5          92  \n",
            "15            15          82  \n",
            "16            32          90  \n",
            "17             5          91  \n",
            "18             8          88  \n",
            "19            11          91  \n",
            "20             3          91  \n",
            "21             8          91  \n",
            "22             7          83  \n",
            "23             4          91  \n",
            "24            30          89  \n",
            "25             6          70  \n",
            "26            10          83  \n",
            "27             3          89  \n",
            "28             6          91  \n",
            "29            25          89  \n",
            "30             4          84  \n",
            "31            33          89  \n",
            "32            28          89  \n",
            "33            15          89  \n",
            "34             6          89  \n",
            "35             6          89  \n",
            "36            34          91  \n",
            "37             5          87  \n",
            "38             6          80  \n",
            "39             7          78  \n",
            "40             3          88  \n",
            "41             5          90  \n",
            "42             3          87  \n",
            "43            13          84  \n",
            "44            12          88  \n",
            "45             5          88  \n",
            "46             6          88  \n",
            "47             5          88  \n",
            "48             3          88  \n",
            "49            12          82  \n"
          ]
        }
      ]
    },
    {
      "cell_type": "code",
      "source": [
        "import pandas as pd\n",
        "data = {'Track.Name': ['Senorita', 'China', 'boyfriend (with Social House)', 'Beautiful People (feat. Khalid)', 'Goodbyes (Feat. Young Thug)'],\n",
        "        'Artist.Name': ['Shawn Mendes', 'Anuel AA', 'Ariana Grande', 'Ed Sheeran', 'Post Malone'],\n",
        "        'Genre': ['canadian pop', 'reggaeton flow', 'dance pop', 'pop', 'dfw rap'],\n",
        "        'Beats.Per.Minute': [117, 105, 190, 93, 150],\n",
        "        'Energy': [55, 81, 80, 65, 65],\n",
        "        'Danceability': [76, 79, 40, 64, 58],\n",
        "        'Loudness..dB..': [-6, -4, -4, -8, -4],\n",
        "        'Liveness': [8, 8, 16, 8, 11]}\n",
        "df = pd.DataFrame(data)\n",
        "print(df)"
      ],
      "metadata": {
        "colab": {
          "base_uri": "https://localhost:8080/"
        },
        "id": "ej1UnERabYwH",
        "outputId": "c494a5f2-5c10-43de-82f8-4d26195567b0"
      },
      "execution_count": 57,
      "outputs": [
        {
          "output_type": "stream",
          "name": "stdout",
          "text": [
            "                        Track.Name    Artist.Name           Genre  \\\n",
            "0                         Senorita   Shawn Mendes    canadian pop   \n",
            "1                            China       Anuel AA  reggaeton flow   \n",
            "2    boyfriend (with Social House)  Ariana Grande       dance pop   \n",
            "3  Beautiful People (feat. Khalid)     Ed Sheeran             pop   \n",
            "4      Goodbyes (Feat. Young Thug)    Post Malone         dfw rap   \n",
            "\n",
            "   Beats.Per.Minute  Energy  Danceability  Loudness..dB..  Liveness  \n",
            "0               117      55            76              -6         8  \n",
            "1               105      81            79              -4         8  \n",
            "2               190      80            40              -4        16  \n",
            "3                93      65            64              -8         8  \n",
            "4               150      65            58              -4        11  \n"
          ]
        }
      ]
    },
    {
      "cell_type": "code",
      "source": [
        "import pandas as pd\n",
        "data = [{'Track.Name': 'Senorita', 'Artist.Name': 'Shawn Mendes', 'Genre': 'canadian pop', 'Beats.Per.Minute': 117, 'Energy': 55, 'Danceability': 76, 'Loudness..dB..': -6, 'Liveness': 8},\n",
        "        {'Track.Name': 'China', 'Artist.Name': 'Anuel AA', 'Genre': 'reggaeton flow', 'Beats.Per.Minute': 105, 'Energy': 81, 'Danceability': 79, 'Loudness..dB..': -4, 'Liveness': 8},\n",
        "        {'Track.Name': 'boyfriend (with Social House)', 'Artist.Name': 'Ariana Grande', 'Genre': 'dance pop', 'Beats.Per.Minute': 190, 'Energy': 80, 'Danceability': 40, 'Loudness..dB..': -4, 'Liveness': 16},\n",
        "        {'Track.Name': 'Beautiful People (feat. Khalid)', 'Artist.Name': 'Ed Sheeran', 'Genre': 'pop', 'Beats.Per.Minute': 93, 'Energy': 65, 'Danceability': 64, 'Loudness..dB..': -8, 'Liveness': 8},\n",
        "        {'Track.Name': 'Goodbyes (Feat. Young Thug)', 'Artist.Name': 'Post Malone', 'Genre': 'dfw rap', 'Beats.Per.Minute': 150, 'Energy': 65, 'Danceability': 58, 'Loudness..dB..': -4, 'Liveness': 11}]\n",
        "df = pd.DataFrame(data)\n",
        "print(df)"
      ],
      "metadata": {
        "colab": {
          "base_uri": "https://localhost:8080/"
        },
        "id": "1-3HDgaKeLE5",
        "outputId": "a3271d3b-e214-4543-d15b-b402842b5483"
      },
      "execution_count": 56,
      "outputs": [
        {
          "output_type": "stream",
          "name": "stdout",
          "text": [
            "                        Track.Name    Artist.Name           Genre  \\\n",
            "0                         Senorita   Shawn Mendes    canadian pop   \n",
            "1                            China       Anuel AA  reggaeton flow   \n",
            "2    boyfriend (with Social House)  Ariana Grande       dance pop   \n",
            "3  Beautiful People (feat. Khalid)     Ed Sheeran             pop   \n",
            "4      Goodbyes (Feat. Young Thug)    Post Malone         dfw rap   \n",
            "\n",
            "   Beats.Per.Minute  Energy  Danceability  Loudness..dB..  Liveness  \n",
            "0               117      55            76              -6         8  \n",
            "1               105      81            79              -4         8  \n",
            "2               190      80            40              -4        16  \n",
            "3                93      65            64              -8         8  \n",
            "4               150      65            58              -4        11  \n"
          ]
        }
      ]
    },
    {
      "cell_type": "code",
      "source": [
        "import pandas as pd\n",
        "data = [{'Track.Name': 'Senorita', 'Artist.Name': 'Shawn Mendes', 'Genre': 'canadian pop', 'Beats.Per.Minute': 117, 'Energy': 55, 'Danceability': 76, 'Loudness..dB..': -6, 'Liveness': 8},\n",
        "        {'Track.Name': 'China', 'Artist.Name': 'Anuel AA', 'Genre': 'reggaeton flow', 'Beats.Per.Minute': 105, 'Energy': 81, 'Danceability': 79, 'Loudness..dB..': -4, 'Liveness': 8},\n",
        "        {'Track.Name': 'boyfriend (with Social House)', 'Artist.Name': 'Ariana Grande', 'Genre': 'dance pop', 'Beats.Per.Minute': 190, 'Energy': 80, 'Danceability': 40, 'Loudness..dB..': -4, 'Liveness': 16},\n",
        "        {'Track.Name': 'Beautiful People (feat. Khalid)', 'Artist.Name': 'Ed Sheeran', 'Genre': 'pop', 'Beats.Per.Minute': 93, 'Energy': 65, 'Danceability': 64, 'Loudness..dB..': -8, 'Liveness': 8},\n",
        "        {'Track.Name': 'Goodbyes (Feat. Young Thug)', 'Artist.Name': 'Post Malone', 'Genre': 'dfw rap', 'Beats.Per.Minute': 150, 'Energy': 65, 'Danceability': 58, 'Loudness..dB..': -4, 'Liveness': 11}]\n",
        "df = pd.DataFrame(data)"
      ],
      "metadata": {
        "id": "p7q1iL1se0H_"
      },
      "execution_count": 54,
      "outputs": []
    },
    {
      "cell_type": "code",
      "source": [
        "print(df[['Track.Name', 'Artist.Name']])"
      ],
      "metadata": {
        "colab": {
          "base_uri": "https://localhost:8080/"
        },
        "id": "HZ74-eVugSYw",
        "outputId": "feb7c197-08e9-42d7-c219-df23fdf2b81c"
      },
      "execution_count": 55,
      "outputs": [
        {
          "output_type": "stream",
          "name": "stdout",
          "text": [
            "                        Track.Name    Artist.Name\n",
            "0                         Senorita   Shawn Mendes\n",
            "1                            China       Anuel AA\n",
            "2    boyfriend (with Social House)  Ariana Grande\n",
            "3  Beautiful People (feat. Khalid)     Ed Sheeran\n",
            "4      Goodbyes (Feat. Young Thug)    Post Malone\n"
          ]
        }
      ]
    },
    {
      "cell_type": "code",
      "source": [
        "print(df['Genre'])"
      ],
      "metadata": {
        "colab": {
          "base_uri": "https://localhost:8080/"
        },
        "id": "7uf7uymfgOWv",
        "outputId": "2b5a3109-0816-4a28-c66b-9e5f23038ca9"
      },
      "execution_count": 52,
      "outputs": [
        {
          "output_type": "stream",
          "name": "stdout",
          "text": [
            "0      canadian pop\n",
            "1    reggaeton flow\n",
            "2         dance pop\n",
            "3               pop\n",
            "4           dfw rap\n",
            "Name: Genre, dtype: object\n"
          ]
        }
      ]
    },
    {
      "cell_type": "code",
      "source": [
        "import pandas as pd\n",
        "data = [{'Track.Name': 'Senorita', 'Artist.Name': 'Shawn Mendes', 'Genre': 'canadian pop', 'Beats.Per.Minute': 117, 'Energy': 55, 'Danceability': 76, 'Loudness..dB..': -6, 'Liveness': 8},\n",
        "        {'Track.Name': 'China', 'Artist.Name': 'Anuel AA', 'Genre': 'reggaeton flow', 'Beats.Per.Minute': 105, 'Energy': 81, 'Danceability': 79, 'Loudness..dB..': -4, 'Liveness': 8},\n",
        "        {'Track.Name': 'boyfriend (with Social House)', 'Artist.Name': 'Ariana Grande', 'Genre': 'dance pop', 'Beats.Per.Minute': 190, 'Energy': 80, 'Danceability': 40, 'Loudness..dB..': -4, 'Liveness': 16},\n",
        "        {'Track.Name': 'Beautiful People (feat. Khalid)', 'Artist.Name': 'Ed Sheeran', 'Genre': 'pop', 'Beats.Per.Minute': 93, 'Energy': 65, 'Danceability': 64, 'Loudness..dB..': -8, 'Liveness': 8},\n",
        "        {'Track.Name': 'Goodbyes (Feat. Young Thug)', 'Artist.Name': 'Post Malone', 'Genre': 'dfw rap', 'Beats.Per.Minute': 150, 'Energy': 65, 'Danceability': 58, 'Loudness..dB..': -4, 'Liveness': 11}]\n",
        "df = pd.DataFrame(data)"
      ],
      "metadata": {
        "id": "tTcuYIbGfrRw"
      },
      "execution_count": 58,
      "outputs": []
    },
    {
      "cell_type": "code",
      "source": [
        "first_row = df.iloc[0]\n",
        "print(first_row)"
      ],
      "metadata": {
        "colab": {
          "base_uri": "https://localhost:8080/"
        },
        "id": "WpmfTCaqhl3p",
        "outputId": "fff04074-7b2f-48b8-af68-1b1fd3664f29"
      },
      "execution_count": 69,
      "outputs": [
        {
          "output_type": "stream",
          "name": "stdout",
          "text": [
            "Track.Name              Senorita\n",
            "Artist.Name         Shawn Mendes\n",
            "Genre               canadian pop\n",
            "Beats.Per.Minute             117\n",
            "Energy                        55\n",
            "Danceability                  76\n",
            "Loudness..dB..                -6\n",
            "Liveness                       8\n",
            "Name: 0, dtype: object\n"
          ]
        }
      ]
    },
    {
      "cell_type": "code",
      "source": [
        "first_row = df.loc[0]\n",
        "print(first_row)"
      ],
      "metadata": {
        "colab": {
          "base_uri": "https://localhost:8080/"
        },
        "id": "RP4P95WNkkzp",
        "outputId": "c72de0d6-3ced-46e8-d0cd-48a888d4f0fd"
      },
      "execution_count": 64,
      "outputs": [
        {
          "output_type": "stream",
          "name": "stdout",
          "text": [
            "Track.Name              Senorita\n",
            "Artist.Name         Shawn Mendes\n",
            "Genre               canadian pop\n",
            "Beats.Per.Minute             117\n",
            "Energy                        55\n",
            "Danceability                  76\n",
            "Loudness..dB..                -6\n",
            "Liveness                       8\n",
            "Name: 0, dtype: object\n"
          ]
        }
      ]
    },
    {
      "cell_type": "code",
      "source": [
        "tworows = df.loc[0:2, ['Track.Name', 'Artist.Name']]\n",
        "print(tworows)"
      ],
      "metadata": {
        "colab": {
          "base_uri": "https://localhost:8080/"
        },
        "id": "XgjQjiNwhyA4",
        "outputId": "3f525b5a-759f-4ffd-e8d8-6ece061a289d"
      },
      "execution_count": 75,
      "outputs": [
        {
          "output_type": "stream",
          "name": "stdout",
          "text": [
            "                      Track.Name    Artist.Name\n",
            "0                       Senorita   Shawn Mendes\n",
            "1                          China       Anuel AA\n",
            "2  boyfriend (with Social House)  Ariana Grande\n"
          ]
        }
      ]
    },
    {
      "cell_type": "code",
      "source": [
        "tworows = df.iloc[0:2, 0:2]\n",
        "print(tworows)"
      ],
      "metadata": {
        "colab": {
          "base_uri": "https://localhost:8080/"
        },
        "id": "YfHCcBgRkUlZ",
        "outputId": "03476425-24d1-4f01-a356-31cdaa12a8ee"
      },
      "execution_count": 73,
      "outputs": [
        {
          "output_type": "stream",
          "name": "stdout",
          "text": [
            "  Track.Name   Artist.Name\n",
            "0   Senorita  Shawn Mendes\n",
            "1      China      Anuel AA\n"
          ]
        }
      ]
    }
  ]
}