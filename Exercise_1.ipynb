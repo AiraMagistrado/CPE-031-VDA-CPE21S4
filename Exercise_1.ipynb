{
  "nbformat": 4,
  "nbformat_minor": 0,
  "metadata": {
    "colab": {
      "provenance": [],
      "include_colab_link": true
    },
    "kernelspec": {
      "name": "python3",
      "display_name": "Python 3"
    },
    "language_info": {
      "name": "python"
    }
  },
  "cells": [
    {
      "cell_type": "markdown",
      "metadata": {
        "id": "view-in-github",
        "colab_type": "text"
      },
      "source": [
        "<a href=\"https://colab.research.google.com/github/AiraMagistrado/CPE-031-VDA-CPE21S4/blob/main/Exercise_1.ipynb\" target=\"_parent\"><img src=\"https://colab.research.google.com/assets/colab-badge.svg\" alt=\"Open In Colab\"/></a>"
      ]
    },
    {
      "cell_type": "markdown",
      "source": [
        "# **Exercise 1**"
      ],
      "metadata": {
        "id": "iDvIOKyA12Yx"
      }
    },
    {
      "cell_type": "markdown",
      "source": [
        "# **Variables and Data Types**\n",
        "\n",
        "            "
      ],
      "metadata": {
        "id": "Z_s4NrUh4ZQC"
      }
    },
    {
      "cell_type": "markdown",
      "source": [
        "\n",
        "\n",
        "**Numbers**\n",
        "\n",
        "Varium = 123\n",
        "\n",
        "pi =  3.14159\n",
        "\n",
        "\n",
        "**Strings**\n",
        "\n",
        "varString = \"Hello World\"\n",
        "\n",
        "varText = \"This is a string\"\n",
        "\n",
        "\n",
        "**Lists**\n",
        "\n",
        "varlists = [abc\", 123]\n",
        "\n",
        "\n",
        "**Tuples**\n",
        "\n",
        "varTuple = 'abc', 123, \"HELLO\"\n",
        "\n",
        "\n",
        "**Dictionaries**\n",
        "\n",
        "var = 3\n",
        "\n",
        "varDict = {'first':1, '2':'2nd', 3:var}\n",
        "\n",
        "\n",
        "varDict ={}\n",
        "\n",
        "varDict['first']= 1\n",
        "\n",
        "varDict['2'] = '2nd'\n",
        "\n",
        "varDict[3] = var\n",
        "            "
      ],
      "metadata": {
        "id": "00P1Vji7DgYi"
      }
    },
    {
      "cell_type": "markdown",
      "source": [
        "# **Arithmetic**"
      ],
      "metadata": {
        "id": "AUqadWKsyrP0"
      }
    },
    {
      "cell_type": "markdown",
      "source": [
        "\n",
        "\n",
        "**Addition**\n",
        "\n",
        "a = 5 + 3\n",
        "> 8\n",
        "\n",
        "**Subtraction**\n",
        "\n",
        "a = 5 - 3\n",
        "> 2\n",
        "\n",
        "**Multiplication**\n",
        "\n",
        "a = 5 * 3\n",
        "\n",
        "**Exponent**\n",
        "\n",
        "a = 5 ** 3\n",
        "> 125\n",
        "\n",
        "**Division**\n",
        "\n",
        "a = 5 / 3\n",
        "> 1.6666666666666667\n",
        "\n",
        "a = 5% 3\n",
        ">2\n",
        "\n",
        "a = 5 // 3\n",
        "> 1\n",
        "\n",
        "**Increment / Decrement**\n",
        "\n",
        "a = 5\n",
        "a += 1\n",
        "> 6\n",
        "\n",
        "**Decrement**\n",
        "\n",
        "a = 5\n",
        "a -= 1\n",
        "> 4\n",
        "\n",
        "**String Concatenation**\n",
        "\n",
        "a = 'Hello' + 'World!'\n",
        "> Hello World!\n",
        "\n",
        "**Complex Expressions**\n",
        "\n",
        "a = 3 + 5 - 6 * 2 / 4\n",
        "> 5.0"
      ],
      "metadata": {
        "id": "sXnH_0Rq4z3Z"
      }
    },
    {
      "cell_type": "markdown",
      "source": [
        "# **Control Statements and Data Structure**"
      ],
      "metadata": {
        "id": "TVIk4s2e5Oqh"
      }
    },
    {
      "cell_type": "markdown",
      "source": [
        "**Conditional Statements**"
      ],
      "metadata": {
        "id": "Derx3fJ87WVZ"
      }
    },
    {
      "cell_type": "markdown",
      "source": [
        "**Boolean Conditions**"
      ],
      "metadata": {
        "id": "OcRnGu9s7nXJ"
      }
    },
    {
      "cell_type": "code",
      "source": [
        "x = True\n",
        "\n",
        "if x:\n",
        "  print (\"var x is True\")\n",
        "else:\n",
        "  print(\"var x is False\")\n"
      ],
      "metadata": {
        "colab": {
          "base_uri": "https://localhost:8080/"
        },
        "id": "ug9BSGiH7rHa",
        "outputId": "83262987-665b-4ba4-f183-0481f7c6a145"
      },
      "execution_count": null,
      "outputs": [
        {
          "output_type": "stream",
          "name": "stdout",
          "text": [
            "var x is True\n"
          ]
        }
      ]
    },
    {
      "cell_type": "markdown",
      "source": [
        "**String Conditions**"
      ],
      "metadata": {
        "id": "luNQ_4YW8Cyo"
      }
    },
    {
      "cell_type": "code",
      "source": [
        "x = \"Hello World!\"\n",
        "\n",
        "if x == 'Hello World!':\n",
        "  print(\"var x is Hello World!\")\n",
        "else:\n",
        "  print(\"var x is not Hello World!\")"
      ],
      "metadata": {
        "colab": {
          "base_uri": "https://localhost:8080/"
        },
        "id": "nqh_T1pl8FEe",
        "outputId": "b06e9521-60c1-4ef8-b3a1-52a9b6e115fa"
      },
      "execution_count": null,
      "outputs": [
        {
          "output_type": "stream",
          "name": "stdout",
          "text": [
            "var x is Hello World!\n"
          ]
        }
      ]
    },
    {
      "cell_type": "markdown",
      "source": [
        "**Numerical Conditions**"
      ],
      "metadata": {
        "id": "hKRLYp498cjB"
      }
    },
    {
      "cell_type": "code",
      "source": [
        "x = 10\n",
        "\n",
        "if x == '10':\n",
        "  print(\"var x is a string\")\n",
        "elif x == 10:\n",
        "  print(\"var x is a integer\")\n",
        "else:\n",
        "  print(\"var x is none of the above\")"
      ],
      "metadata": {
        "colab": {
          "base_uri": "https://localhost:8080/"
        },
        "id": "vlWdgkVI8emr",
        "outputId": "aebb7733-ce0b-4612-c72b-1a6f9441faa4"
      },
      "execution_count": null,
      "outputs": [
        {
          "output_type": "stream",
          "name": "stdout",
          "text": [
            "var x is a integer\n"
          ]
        }
      ]
    },
    {
      "cell_type": "markdown",
      "source": [
        "## **Loops**"
      ],
      "metadata": {
        "id": "GuebJ8nR9jXx"
      }
    },
    {
      "cell_type": "markdown",
      "source": [
        "**For Loops**"
      ],
      "metadata": {
        "id": "p0GrKmy1y799"
      }
    },
    {
      "cell_type": "code",
      "source": [
        "for var in range(0, 5, 2):\n",
        "    print(var)"
      ],
      "metadata": {
        "colab": {
          "base_uri": "https://localhost:8080/"
        },
        "id": "we3RkEvDy0Mo",
        "outputId": "f6b3cd73-af7f-4933-fc24-298a02a09fde"
      },
      "execution_count": null,
      "outputs": [
        {
          "output_type": "stream",
          "name": "stdout",
          "text": [
            "0\n",
            "2\n",
            "4\n"
          ]
        }
      ]
    },
    {
      "cell_type": "markdown",
      "source": [
        "**While Loops**"
      ],
      "metadata": {
        "id": "cSOhzff0zHu9"
      }
    },
    {
      "cell_type": "code",
      "source": [
        "var = 0\n",
        "while var < 5:\n",
        "    print(var)\n",
        "    var += 2"
      ],
      "metadata": {
        "colab": {
          "base_uri": "https://localhost:8080/"
        },
        "id": "kcl1AK44zCC9",
        "outputId": "393fd3c1-25cb-4fe2-a014-825727795962"
      },
      "execution_count": null,
      "outputs": [
        {
          "output_type": "stream",
          "name": "stdout",
          "text": [
            "0\n",
            "2\n",
            "4\n"
          ]
        }
      ]
    },
    {
      "cell_type": "markdown",
      "source": [
        "**Nested Loops**"
      ],
      "metadata": {
        "id": "NXBeciRF0kuJ"
      }
    },
    {
      "cell_type": "code",
      "source": [
        "x = 0\n",
        "while x < 5:\n",
        "    for y in range(0, x):\n",
        "        print(y, end='')\n",
        "    x += 1\n",
        "    print()"
      ],
      "metadata": {
        "colab": {
          "base_uri": "https://localhost:8080/"
        },
        "id": "REuA6c3jzLDH",
        "outputId": "16661dfa-6c4d-4361-8c37-86b19266bfb2"
      },
      "execution_count": null,
      "outputs": [
        {
          "output_type": "stream",
          "name": "stdout",
          "text": [
            "\n",
            "0\n",
            "01\n",
            "012\n",
            "0123\n"
          ]
        }
      ]
    },
    {
      "cell_type": "markdown",
      "source": [
        "# **Lists**"
      ],
      "metadata": {
        "id": "ORkG629QyYkf"
      }
    },
    {
      "cell_type": "markdown",
      "source": [
        "\n",
        "Can contain a number of values comprised of different datatypes."
      ],
      "metadata": {
        "id": "BgQLo7H-1cJ0"
      }
    },
    {
      "cell_type": "code",
      "source": [
        "pi = 3.14159\n",
        "varList = [1, 2, 'A', 'B', 'Hello!', pi]\n",
        "print(varList[0])"
      ],
      "metadata": {
        "colab": {
          "base_uri": "https://localhost:8080/"
        },
        "id": "bND85NRu047s",
        "outputId": "a0470a7e-c001-49be-8563-e383def8fe3b"
      },
      "execution_count": null,
      "outputs": [
        {
          "output_type": "stream",
          "name": "stdout",
          "text": [
            "1\n"
          ]
        }
      ]
    },
    {
      "cell_type": "code",
      "source": [
        "print(varList[4])"
      ],
      "metadata": {
        "colab": {
          "base_uri": "https://localhost:8080/"
        },
        "id": "vI54bUe71DD8",
        "outputId": "d397399d-1edd-4661-f11f-40dfb0ce6b5a"
      },
      "execution_count": null,
      "outputs": [
        {
          "output_type": "stream",
          "name": "stdout",
          "text": [
            "Hello!\n"
          ]
        }
      ]
    },
    {
      "cell_type": "code",
      "source": [
        "varList.append('World!')\n",
        "print(varList[6])"
      ],
      "metadata": {
        "colab": {
          "base_uri": "https://localhost:8080/"
        },
        "id": "vudsN3fC1GNc",
        "outputId": "cf4763ad-ae19-44c6-b915-b051685f36e6"
      },
      "execution_count": null,
      "outputs": [
        {
          "output_type": "stream",
          "name": "stdout",
          "text": [
            "World!\n"
          ]
        }
      ]
    },
    {
      "cell_type": "code",
      "source": [
        "len(varList)"
      ],
      "metadata": {
        "colab": {
          "base_uri": "https://localhost:8080/"
        },
        "id": "gVZqmWUw1PCT",
        "outputId": "12fd6dfe-769e-4215-8cad-12a20eeea5fa"
      },
      "execution_count": null,
      "outputs": [
        {
          "output_type": "execute_result",
          "data": {
            "text/plain": [
              "7"
            ]
          },
          "metadata": {},
          "execution_count": 46
        }
      ]
    },
    {
      "cell_type": "code",
      "source": [
        "print(varList[5])"
      ],
      "metadata": {
        "colab": {
          "base_uri": "https://localhost:8080/"
        },
        "id": "rceXQwGQ1SqL",
        "outputId": "73c65462-aeeb-499e-bf02-341d47d67cc6"
      },
      "execution_count": null,
      "outputs": [
        {
          "output_type": "stream",
          "name": "stdout",
          "text": [
            "3.14159\n"
          ]
        }
      ]
    },
    {
      "cell_type": "code",
      "source": [
        "varList.remove(pi)\n",
        "print(varList[5])"
      ],
      "metadata": {
        "colab": {
          "base_uri": "https://localhost:8080/"
        },
        "id": "bjHfj_0L1WU7",
        "outputId": "c3610238-00a3-4018-e244-9549506bb1d9"
      },
      "execution_count": null,
      "outputs": [
        {
          "output_type": "stream",
          "name": "stdout",
          "text": [
            "World!\n"
          ]
        }
      ]
    },
    {
      "cell_type": "markdown",
      "source": [
        "\n",
        "\n",
        "\n",
        "*Note: Lists starts with an index of 0. The remove() method erases the first value that matches the parameter\n",
        "\n",
        "\n"
      ],
      "metadata": {
        "id": "LnDYb_SgAB3v"
      }
    },
    {
      "cell_type": "markdown",
      "source": [
        "# **Dictionaries**"
      ],
      "metadata": {
        "id": "I2sSxdOGyf4s"
      }
    },
    {
      "cell_type": "code",
      "source": [
        "var = \"Hello World!\"\n",
        "varDict = {'first' : 123, 2 : 'abc',\n",
        "           '3' : var, 4: ['lista', 'listb']}\n",
        "print(varDict['first'])"
      ],
      "metadata": {
        "colab": {
          "base_uri": "https://localhost:8080/"
        },
        "id": "Z8i_Gsz22FxL",
        "outputId": "f2e03cb8-9a79-4d27-b3af-db3fb5064440"
      },
      "execution_count": null,
      "outputs": [
        {
          "output_type": "stream",
          "name": "stdout",
          "text": [
            "123\n"
          ]
        }
      ]
    },
    {
      "cell_type": "code",
      "source": [
        "print(varDict[2])"
      ],
      "metadata": {
        "colab": {
          "base_uri": "https://localhost:8080/"
        },
        "id": "b_sPM0yQ3YXI",
        "outputId": "8c15d8c4-bed5-4c6c-9552-25e903d34d04"
      },
      "execution_count": null,
      "outputs": [
        {
          "output_type": "stream",
          "name": "stdout",
          "text": [
            "abc\n"
          ]
        }
      ]
    },
    {
      "cell_type": "code",
      "source": [
        "print(varDict['3'])"
      ],
      "metadata": {
        "colab": {
          "base_uri": "https://localhost:8080/"
        },
        "id": "nXCpwJGW3cL7",
        "outputId": "08e4e80b-dc53-4c5e-8a36-3cdb18256926"
      },
      "execution_count": null,
      "outputs": [
        {
          "output_type": "stream",
          "name": "stdout",
          "text": [
            "Hello World!\n"
          ]
        }
      ]
    },
    {
      "cell_type": "code",
      "source": [
        "print(varDict[4])"
      ],
      "metadata": {
        "colab": {
          "base_uri": "https://localhost:8080/"
        },
        "id": "UCzZ91FD3ffq",
        "outputId": "d637fa18-9e58-4639-9a94-092d5c97995d"
      },
      "execution_count": null,
      "outputs": [
        {
          "output_type": "stream",
          "name": "stdout",
          "text": [
            "['lista', 'listb']\n"
          ]
        }
      ]
    },
    {
      "cell_type": "code",
      "source": [
        "print(varDict[4][1])"
      ],
      "metadata": {
        "colab": {
          "base_uri": "https://localhost:8080/"
        },
        "id": "4GDzWYYr3h2D",
        "outputId": "30f8ad74-39c7-4600-9094-0ecfedf5d6af"
      },
      "execution_count": null,
      "outputs": [
        {
          "output_type": "stream",
          "name": "stdout",
          "text": [
            "listb\n"
          ]
        }
      ]
    },
    {
      "cell_type": "code",
      "source": [
        "len(varDict)"
      ],
      "metadata": {
        "colab": {
          "base_uri": "https://localhost:8080/"
        },
        "id": "u63O8XYd3llH",
        "outputId": "68a52abc-d234-4d16-a887-fde0a09f8b6a"
      },
      "execution_count": null,
      "outputs": [
        {
          "output_type": "execute_result",
          "data": {
            "text/plain": [
              "4"
            ]
          },
          "metadata": {},
          "execution_count": 24
        }
      ]
    },
    {
      "cell_type": "markdown",
      "source": [
        "# **List Generators and Comprehension**"
      ],
      "metadata": {
        "id": "iASk_N0dymK7"
      }
    },
    {
      "cell_type": "markdown",
      "source": [
        "\n",
        "\n",
        "Generators can be used to build list in the memory as objects\n",
        "\n",
        "\n",
        "\n",
        "```\n",
        "def gen_num_up_to(n):\n",
        "    num = 0\n",
        "    while num < n:\n",
        "          yield num\n",
        "          num += 1\n",
        "```\n",
        "\n",
        "\n",
        "\n",
        "```\n",
        "gen_num_up_to(5)\n",
        "```\n",
        "> <generator object gen_num_up_to at 0x0000>\n",
        "\n",
        "*Note: This creates an object\n",
        "\n",
        "\n",
        "\n",
        "```\n",
        "varList = gen_num_up_to(5)\n",
        "print(var for var in varList])\n",
        "```\n",
        "> [0, 1, 2, 3, 4]\n",
        "\n",
        "\n",
        "```\n",
        "def gen_num_up_to(n):\n",
        "    num = 0\n",
        "    while num < n:\n",
        "          yield num\n",
        "          num +=2\n",
        "\n",
        "varList = gen_num_up_to(5)\n",
        "print([var for var in varList])\n",
        "```\n",
        "> [0, 2. 4]\n",
        "\n",
        "\n",
        "\n",
        "```\n",
        "varList = range(0, 5, 2)\n",
        "print([var for var in varList])\n",
        "```\n",
        "> [0, 2, 4]\n",
        "\n",
        "\n",
        "\n",
        "\n",
        "\n"
      ],
      "metadata": {
        "id": "POHaT7WYE0PD"
      }
    },
    {
      "cell_type": "markdown",
      "source": [
        "# **Slicing**\n",
        "\n"
      ],
      "metadata": {
        "id": "Ck-bAcKlG0qk"
      }
    },
    {
      "cell_type": "code",
      "source": [
        "varList = [1, 2, 3, 4, 5, 6, 7, 8, 9, 10]\n",
        "print(varList[:5])"
      ],
      "metadata": {
        "colab": {
          "base_uri": "https://localhost:8080/"
        },
        "id": "EdGhzhZDG8GX",
        "outputId": "c4718326-d091-4cd8-f5b3-db0ecbb75447"
      },
      "execution_count": null,
      "outputs": [
        {
          "output_type": "stream",
          "name": "stdout",
          "text": [
            "[1, 2, 3, 4, 5]\n"
          ]
        }
      ]
    },
    {
      "cell_type": "code",
      "source": [
        "print(varList[5:])"
      ],
      "metadata": {
        "colab": {
          "base_uri": "https://localhost:8080/"
        },
        "id": "pDtsJEdKG8Hn",
        "outputId": "77cc314d-e12c-4916-bb74-ba54e0f7d196"
      },
      "execution_count": null,
      "outputs": [
        {
          "output_type": "stream",
          "name": "stdout",
          "text": [
            "[6, 7, 8, 9, 10]\n"
          ]
        }
      ]
    },
    {
      "cell_type": "code",
      "source": [
        "print(varList[:-2])"
      ],
      "metadata": {
        "colab": {
          "base_uri": "https://localhost:8080/"
        },
        "id": "0zCoxxT7HRzi",
        "outputId": "41af5b34-cd05-47e5-f115-c8e6636be47d"
      },
      "execution_count": null,
      "outputs": [
        {
          "output_type": "stream",
          "name": "stdout",
          "text": [
            "[1, 2, 3, 4, 5, 6, 7, 8]\n"
          ]
        }
      ]
    },
    {
      "cell_type": "code",
      "source": [
        "print(varList[-2:])"
      ],
      "metadata": {
        "colab": {
          "base_uri": "https://localhost:8080/"
        },
        "id": "Mmea6f1hHY1a",
        "outputId": "1440f07e-b516-429c-d5f0-0c2e78efb675"
      },
      "execution_count": null,
      "outputs": [
        {
          "output_type": "stream",
          "name": "stdout",
          "text": [
            "[9, 10]\n"
          ]
        }
      ]
    },
    {
      "cell_type": "code",
      "source": [
        "print(varList[2:-2])"
      ],
      "metadata": {
        "colab": {
          "base_uri": "https://localhost:8080/"
        },
        "id": "Zp2wHXx_Hd5e",
        "outputId": "273713b9-991f-4677-b8d8-f0475212920c"
      },
      "execution_count": null,
      "outputs": [
        {
          "output_type": "stream",
          "name": "stdout",
          "text": [
            "[3, 4, 5, 6, 7, 8]\n"
          ]
        }
      ]
    },
    {
      "cell_type": "code",
      "source": [
        "print(varList[2:8:2])"
      ],
      "metadata": {
        "colab": {
          "base_uri": "https://localhost:8080/"
        },
        "id": "8gjCDEw3Hd4S",
        "outputId": "a0279064-150e-4a95-9634-98f7d6c886e7"
      },
      "execution_count": null,
      "outputs": [
        {
          "output_type": "stream",
          "name": "stdout",
          "text": [
            "[3, 5, 7]\n"
          ]
        }
      ]
    },
    {
      "cell_type": "markdown",
      "source": [
        "*Note:\n",
        "\n",
        "      list(start:)\n",
        "\n",
        "      list(:end)\n",
        "\n",
        "      list(start:end)\n",
        "\n",
        "      list(start:end:step)      "
      ],
      "metadata": {
        "id": "ZvYIckCSHnzb"
      }
    },
    {
      "cell_type": "markdown",
      "source": [
        "# **Functions**\n",
        "\n"
      ],
      "metadata": {
        "id": "BFLnhuciIY8d"
      }
    },
    {
      "cell_type": "markdown",
      "source": [
        "Python functions use the following notation:\n",
        "\n",
        "\n",
        "```\n",
        "def function_name:\n",
        "      commands\n",
        "```"
      ],
      "metadata": {
        "id": "qt5nUvcfJdx7"
      }
    },
    {
      "cell_type": "code",
      "source": [
        "def remainder(n,m):\n",
        "    while True:\n",
        "      if n - m <0:\n",
        "          return n\n",
        "      else:\n",
        "          n = n - m\n",
        "\n",
        "remainder(10,4)"
      ],
      "metadata": {
        "colab": {
          "base_uri": "https://localhost:8080/"
        },
        "id": "VkhY3At9Iqxa",
        "outputId": "8248715c-8374-473b-c3ee-b310321d69a1"
      },
      "execution_count": null,
      "outputs": [
        {
          "output_type": "execute_result",
          "data": {
            "text/plain": [
              "2"
            ]
          },
          "metadata": {},
          "execution_count": 14
        }
      ]
    },
    {
      "cell_type": "markdown",
      "source": [
        "*Note: Functions are defined with the keyword def before the function_name. Similar to loops, the function definition ends with a colon (:) while its contents inside are indented"
      ],
      "metadata": {
        "id": "jUXt6mU5I-V3"
      }
    }
  ]
}