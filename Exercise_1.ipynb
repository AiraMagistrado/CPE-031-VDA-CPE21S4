{
  "nbformat": 4,
  "nbformat_minor": 0,
  "metadata": {
    "colab": {
      "provenance": [],
      "authorship_tag": "ABX9TyM8lyYZIUTfV0ag6l/QbudT",
      "include_colab_link": true
    },
    "kernelspec": {
      "name": "python3",
      "display_name": "Python 3"
    },
    "language_info": {
      "name": "python"
    }
  },
  "cells": [
    {
      "cell_type": "markdown",
      "metadata": {
        "id": "view-in-github",
        "colab_type": "text"
      },
      "source": [
        "<a href=\"https://colab.research.google.com/github/airapau/CPE-031-VDA-CPE21S4/blob/main/Exercise_1.ipynb\" target=\"_parent\"><img src=\"https://colab.research.google.com/assets/colab-badge.svg\" alt=\"Open In Colab\"/></a>"
      ]
    },
    {
      "cell_type": "markdown",
      "source": [
        "# **Exercise 1**"
      ],
      "metadata": {
        "id": "iDvIOKyA12Yx"
      }
    },
    {
      "cell_type": "markdown",
      "source": [
        "# **Variables and Data Types**\n",
        "\n",
        "            "
      ],
      "metadata": {
        "id": "Z_s4NrUh4ZQC"
      }
    },
    {
      "cell_type": "markdown",
      "source": [
        "\n",
        "\n",
        "**Numbers**\n",
        "\n",
        "Varium = 123\n",
        "\n",
        "pi =  3.14159\n",
        "\n",
        "\n",
        "**Strings**\n",
        "\n",
        "varString = \"Hello World\"\n",
        "\n",
        "varText = \"This is a string\"\n",
        "\n",
        "\n",
        "**Lists**\n",
        "\n",
        "varlists = [abc\", 123]\n",
        "\n",
        "\n",
        "**Tuples**\n",
        "\n",
        "varTuple = 'abc', 123, \"HELLO\"\n",
        "\n",
        "\n",
        "**Dictionaries**\n",
        "\n",
        "var = 3\n",
        "\n",
        "varDict = {'first':1, '2':'2nd', 3:var}\n",
        "\n",
        "\n",
        "varDict ={}\n",
        "\n",
        "varDict['first']= 1\n",
        "\n",
        "varDict['2'] = '2nd'\n",
        "\n",
        "varDict[3] = var\n",
        "            "
      ],
      "metadata": {
        "id": "00P1Vji7DgYi"
      }
    },
    {
      "cell_type": "markdown",
      "source": [
        "## **Arithmetic**\n",
        "\n",
        "**Addition**\n",
        "\n",
        "a = 5 + 3\n",
        "> 8\n",
        "\n",
        "**Subtraction**\n",
        "\n",
        "a = 5 - 3\n",
        "> 2\n",
        "\n",
        "**Multiplication**\n",
        "\n",
        "a = 5 * 3\n",
        "\n",
        "**Exponent**\n",
        "\n",
        "a = 5 ** 3\n",
        "> 125\n",
        "\n",
        "**Division**\n",
        "\n",
        "a = 5% 3\n",
        ">2\n",
        "\n",
        "a = 5 // 3\n",
        "> 1\n",
        "\n",
        "**Increment / Decrement**\n",
        "a = 5\n",
        "a += 1\n",
        "> 6\n",
        "\n",
        "Decrement\n",
        "a = 5\n",
        "a -= 1\n",
        "> 4\n",
        "\n",
        "String Concatenation\n",
        "a = 'Hello' + 'World!'\n",
        "> Hello World!\n",
        "\n",
        "Complex Expressions\n",
        "a = 3 + 5 - 6 * 2 / 4\n",
        "> 5.0"
      ],
      "metadata": {
        "id": "sXnH_0Rq4z3Z"
      }
    },
    {
      "cell_type": "markdown",
      "source": [
        "# **Control Statements and Data Structure**"
      ],
      "metadata": {
        "id": "TVIk4s2e5Oqh"
      }
    },
    {
      "cell_type": "markdown",
      "source": [
        "**Conditional Statements**"
      ],
      "metadata": {
        "id": "Derx3fJ87WVZ"
      }
    },
    {
      "cell_type": "markdown",
      "source": [
        "**Boolean Conditions**"
      ],
      "metadata": {
        "id": "OcRnGu9s7nXJ"
      }
    },
    {
      "cell_type": "code",
      "source": [
        "x = True\n",
        "\n",
        "if x:\n",
        "  print (\"var x is True\")\n",
        "else:\n",
        "  print(\"var x is False\")\n",
        ""
      ],
      "metadata": {
        "colab": {
          "base_uri": "https://localhost:8080/"
        },
        "id": "ug9BSGiH7rHa",
        "outputId": "83262987-665b-4ba4-f183-0481f7c6a145"
      },
      "execution_count": 4,
      "outputs": [
        {
          "output_type": "stream",
          "name": "stdout",
          "text": [
            "var x is True\n"
          ]
        }
      ]
    },
    {
      "cell_type": "markdown",
      "source": [
        "**String Conditions**"
      ],
      "metadata": {
        "id": "luNQ_4YW8Cyo"
      }
    },
    {
      "cell_type": "code",
      "source": [
        "x = \"Hello World!\"\n",
        "\n",
        "if x == 'Hello World!':\n",
        "  print(\"var x is Hello World!\")\n",
        "else:\n",
        "  print(\"var x is not Hello World!\")"
      ],
      "metadata": {
        "colab": {
          "base_uri": "https://localhost:8080/"
        },
        "id": "nqh_T1pl8FEe",
        "outputId": "b06e9521-60c1-4ef8-b3a1-52a9b6e115fa"
      },
      "execution_count": 5,
      "outputs": [
        {
          "output_type": "stream",
          "name": "stdout",
          "text": [
            "var x is Hello World!\n"
          ]
        }
      ]
    },
    {
      "cell_type": "markdown",
      "source": [
        "**Numerical Conditions**"
      ],
      "metadata": {
        "id": "hKRLYp498cjB"
      }
    },
    {
      "cell_type": "code",
      "source": [
        "x = 10\n",
        "\n",
        "if x == '10':\n",
        "  print(\"var x is a string\")\n",
        "elif x == 10:\n",
        "  print(\"var x is a integer\")\n",
        "else:\n",
        "  print(\"var x is none of the above\")"
      ],
      "metadata": {
        "colab": {
          "base_uri": "https://localhost:8080/"
        },
        "id": "vlWdgkVI8emr",
        "outputId": "aebb7733-ce0b-4612-c72b-1a6f9441faa4"
      },
      "execution_count": 7,
      "outputs": [
        {
          "output_type": "stream",
          "name": "stdout",
          "text": [
            "var x is a integer\n"
          ]
        }
      ]
    },
    {
      "cell_type": "markdown",
      "source": [
        "## **Loops**"
      ],
      "metadata": {
        "id": "GuebJ8nR9jXx"
      }
    },
    {
      "cell_type": "markdown",
      "source": [
        "**For Loops**\n",
        "\n",
        "\n",
        "```\n",
        "for var in range(0, 5, 2):\n",
        "    print(var)\n",
        "```\n",
        "> 0\n",
        "\n",
        "> 2\n",
        "\n",
        "> 4\n",
        "\n",
        "**While Loops**\n",
        "\n",
        "\n",
        "```\n",
        "var = 0\n",
        "while var < 5:\n",
        "    print(var)\n",
        "    var += 2\n",
        "```\n",
        "> 0\n",
        "\n",
        "> 2\n",
        "\n",
        "> 4\n",
        "\n",
        "**Nested Loops**\n",
        "\n",
        "```\n",
        "x = 0\n",
        "while x < 5:\n",
        "    for y in range (0, x):\n",
        "        print(y, end= '')\n",
        "        x += 1\n",
        "        print()\n",
        "```\n",
        "> 0\n",
        "\n",
        "> 01\n",
        "\n",
        ">012\n",
        "\n",
        ">0123\n",
        "\n",
        "\n",
        "\n",
        "\n"
      ],
      "metadata": {
        "id": "Ee5f4Yzo9klH"
      }
    },
    {
      "cell_type": "markdown",
      "source": [
        "# **Lists**\n",
        "Can contain a number of values comprised of different datatypes.\n",
        "\n",
        "\n",
        "```\n",
        "pi = 3.14159\n",
        "varList = [1, 2, 'A', 'B', 'Hello!'pi]\n",
        "print(varList[0])\n",
        "```\n",
        "> 1\n",
        "\n",
        "```\n",
        "print(varList[4])\n",
        "```\n",
        "> Hello!\n",
        "\n",
        "\n",
        "```\n",
        "varlist.append('World!')\n",
        "print(varlist[6])\n",
        "```\n",
        "> World!\n",
        "\n",
        "\n",
        "```\n",
        "len(varList)\n",
        "```\n",
        "> 7\n",
        "\n",
        "\n",
        "\n",
        "```\n",
        "print(varList[5])\n",
        "```\n",
        "> 3.14159\n",
        "\n",
        "\n",
        "```\n",
        "varList.remove(pi)\n",
        "print(varList[5])\n",
        "```\n",
        "> World!\n",
        "\n",
        "\n",
        "*Note: Lists starts with an index of 0. The remove() method erases the first value that matches the parameter\n",
        "\n",
        "\n"
      ],
      "metadata": {
        "id": "LnDYb_SgAB3v"
      }
    },
    {
      "cell_type": "markdown",
      "source": [
        "# **Dictionaries**\n",
        "\n",
        "\n",
        "```\n",
        "var = \"Hello World!\"\n",
        "varDict = {'first' : 123, 2 : 'abc',\n",
        "           '3' : var, 4: ['lista', 'listb']}\n",
        "print(varDict('first\"]}\n",
        "```\n",
        "> 123\n",
        "\n",
        "\n",
        "\n",
        "```\n",
        "print(varDict[2])\n",
        "```\n",
        "> abc\n",
        "\n",
        "\n",
        "\n",
        "```\n",
        "print(varDict['3'])\n",
        "```\n",
        "> Hello World!\n",
        "\n",
        "\n",
        "\n",
        "```\n",
        "print(varDict[4])\n",
        "```\n",
        "> ['lista', 'listb']\n",
        "\n",
        "\n",
        "\n",
        "```\n",
        "print(varDict[4][1])\n",
        "```\n",
        "> listb\n",
        "\n",
        "\n",
        "\n",
        "```\n",
        "len(varDict)\n",
        "```\n",
        ">4\n",
        "\n",
        "\n",
        "\n",
        "\n"
      ],
      "metadata": {
        "id": "7bKk7K00BdiT"
      }
    },
    {
      "cell_type": "markdown",
      "source": [
        "# **List Generators and Comprehension**\n",
        "\n",
        "Generators can be used to build list in the memory as objects\n",
        "\n",
        "\n",
        "\n",
        "```\n",
        "def gen_num_up_to(n):\n",
        "    num = 0\n",
        "    while num < n:\n",
        "          yield num\n",
        "          num += 1\n",
        "```\n",
        "\n",
        "\n",
        "\n",
        "```\n",
        "gen_num_up_to(5)\n",
        "```\n",
        "> <generator object gen_num_up_to at 0x0000>\n",
        "\n",
        "*Note: This creates an object\n",
        "\n",
        "\n",
        "\n",
        "```\n",
        "varList = gen_num_up_to(5)\n",
        "print(var for var in varList])\n",
        "```\n",
        "> [0, 1, 2, 3, 4]\n",
        "\n",
        "\n",
        "```\n",
        "def gen_num_up_to(n):\n",
        "    num = 0\n",
        "    while num < n:\n",
        "          yield num\n",
        "          num +=2\n",
        "\n",
        "varList = gen_num_up_to(5)\n",
        "print([var for var in varList])\n",
        "```\n",
        "> [0, 2. 4]\n",
        "\n",
        "\n",
        "\n",
        "```\n",
        "varList = range(0, 5, 2)\n",
        "print([var for var in varList])\n",
        "```\n",
        "> [0, 2, 4]\n",
        "\n",
        "\n",
        "\n",
        "\n",
        "\n"
      ],
      "metadata": {
        "id": "POHaT7WYE0PD"
      }
    },
    {
      "cell_type": "markdown",
      "source": [
        "# **Slicing**\n",
        "\n"
      ],
      "metadata": {
        "id": "Ck-bAcKlG0qk"
      }
    },
    {
      "cell_type": "code",
      "source": [
        "varList = [1, 2, 3, 4, 5, 6, 7, 8, 9, 10]\n",
        "print(varList[:5])"
      ],
      "metadata": {
        "colab": {
          "base_uri": "https://localhost:8080/"
        },
        "id": "EdGhzhZDG8GX",
        "outputId": "175a12ff-22bf-43eb-d3a1-cdd4b0568434"
      },
      "execution_count": 8,
      "outputs": [
        {
          "output_type": "stream",
          "name": "stdout",
          "text": [
            "[1, 2, 3, 4, 5]\n"
          ]
        }
      ]
    },
    {
      "cell_type": "code",
      "source": [
        "print(varList[5:])"
      ],
      "metadata": {
        "colab": {
          "base_uri": "https://localhost:8080/"
        },
        "id": "pDtsJEdKG8Hn",
        "outputId": "1711ec0b-f051-415c-a9aa-699f20082493"
      },
      "execution_count": 9,
      "outputs": [
        {
          "output_type": "stream",
          "name": "stdout",
          "text": [
            "[6, 7, 8, 9, 10]\n"
          ]
        }
      ]
    },
    {
      "cell_type": "code",
      "source": [
        "print(varList[:-2])"
      ],
      "metadata": {
        "colab": {
          "base_uri": "https://localhost:8080/"
        },
        "id": "0zCoxxT7HRzi",
        "outputId": "73e2e992-cc90-4b6d-ec6d-21d9f78ef687"
      },
      "execution_count": 10,
      "outputs": [
        {
          "output_type": "stream",
          "name": "stdout",
          "text": [
            "[1, 2, 3, 4, 5, 6, 7, 8]\n"
          ]
        }
      ]
    },
    {
      "cell_type": "code",
      "source": [
        "print(varList[-2:])"
      ],
      "metadata": {
        "colab": {
          "base_uri": "https://localhost:8080/"
        },
        "id": "Mmea6f1hHY1a",
        "outputId": "e2f1c909-b285-4223-cc67-dbc5a2109761"
      },
      "execution_count": 11,
      "outputs": [
        {
          "output_type": "stream",
          "name": "stdout",
          "text": [
            "[9, 10]\n"
          ]
        }
      ]
    },
    {
      "cell_type": "code",
      "source": [
        "print(varList[2:-2])"
      ],
      "metadata": {
        "colab": {
          "base_uri": "https://localhost:8080/"
        },
        "id": "Zp2wHXx_Hd5e",
        "outputId": "d5df2891-5b1e-4037-e723-af3e55350fc6"
      },
      "execution_count": 12,
      "outputs": [
        {
          "output_type": "stream",
          "name": "stdout",
          "text": [
            "[3, 4, 5, 6, 7, 8]\n"
          ]
        }
      ]
    },
    {
      "cell_type": "code",
      "source": [
        "print(varList[2:8:2])"
      ],
      "metadata": {
        "colab": {
          "base_uri": "https://localhost:8080/"
        },
        "id": "8gjCDEw3Hd4S",
        "outputId": "4365a7a5-c952-4d28-cf09-ae31384fc3c9"
      },
      "execution_count": 13,
      "outputs": [
        {
          "output_type": "stream",
          "name": "stdout",
          "text": [
            "[3, 5, 7]\n"
          ]
        }
      ]
    },
    {
      "cell_type": "markdown",
      "source": [
        "*Note:\n",
        "\n",
        "      list(start:)\n",
        "\n",
        "      list(:end)\n",
        "\n",
        "      list(start:end)\n",
        "\n",
        "      list(start:end:step)      "
      ],
      "metadata": {
        "id": "ZvYIckCSHnzb"
      }
    },
    {
      "cell_type": "markdown",
      "source": [
        "# **Functions**\n",
        "\n"
      ],
      "metadata": {
        "id": "BFLnhuciIY8d"
      }
    },
    {
      "cell_type": "markdown",
      "source": [
        "Python functions use the following notation:\n",
        "\n",
        "\n",
        "```\n",
        "def function_name:\n",
        "      commands\n",
        "```"
      ],
      "metadata": {
        "id": "qt5nUvcfJdx7"
      }
    },
    {
      "cell_type": "code",
      "source": [
        "def remainder(n,m):\n",
        "    while True:\n",
        "      if n - m <0:\n",
        "          return n\n",
        "      else:\n",
        "          n = n - m\n",
        "\n",
        "remainder(10,4)"
      ],
      "metadata": {
        "colab": {
          "base_uri": "https://localhost:8080/"
        },
        "id": "VkhY3At9Iqxa",
        "outputId": "8248715c-8374-473b-c3ee-b310321d69a1"
      },
      "execution_count": 14,
      "outputs": [
        {
          "output_type": "execute_result",
          "data": {
            "text/plain": [
              "2"
            ]
          },
          "metadata": {},
          "execution_count": 14
        }
      ]
    },
    {
      "cell_type": "markdown",
      "source": [
        "*Note: Functions are defined with the keyword def before the function_name. Similar to loops, the function definition ends with a colon (:) while its contents inside are indented"
      ],
      "metadata": {
        "id": "jUXt6mU5I-V3"
      }
    }
  ]
}