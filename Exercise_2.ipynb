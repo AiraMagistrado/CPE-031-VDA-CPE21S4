{
  "nbformat": 4,
  "nbformat_minor": 0,
  "metadata": {
    "colab": {
      "provenance": []
    },
    "kernelspec": {
      "name": "python3",
      "display_name": "Python 3"
    },
    "language_info": {
      "name": "python"
    }
  },
  "cells": [
    {
      "cell_type": "markdown",
      "source": [
        "**Example 1**"
      ],
      "metadata": {
        "id": "02e1P-47yicO"
      }
    },
    {
      "cell_type": "code",
      "source": [
        "!ppip install pandas"
      ],
      "metadata": {
        "id": "llyjkWvw6Aw5"
      },
      "execution_count": null,
      "outputs": []
    },
    {
      "cell_type": "code",
      "execution_count": null,
      "metadata": {
        "colab": {
          "base_uri": "https://localhost:8080/"
        },
        "id": "BEmyapHRvZmP",
        "outputId": "45ba4429-41f4-4ce0-c4d8-ad3fd626e7a6"
      },
      "outputs": [
        {
          "output_type": "stream",
          "name": "stdout",
          "text": [
            "  animals  passings\n",
            "0     Cat        13\n",
            "1     Dog        17\n",
            "2  Rabbit         8\n"
          ]
        }
      ],
      "source": [
        "import pandas\n",
        "\n",
        "mydataset = {\n",
        "  'animals': [\"Cat\", \"Dog\", \"Rabbit\"],\n",
        "  'passings': [13, 17, 8]\n",
        "}\n",
        "\n",
        "myvar = pandas.DataFrame(mydataset)\n",
        "\n",
        "print(myvar)"
      ]
    },
    {
      "cell_type": "markdown",
      "source": [
        "**Example 2**"
      ],
      "metadata": {
        "id": "_BwHVnU735S-"
      }
    },
    {
      "cell_type": "code",
      "source": [
        "import pandas as pd\n",
        "\n",
        "a = [1, 7, 2]\n",
        "\n",
        "myvar = pd.Series(a)\n",
        "\n",
        "print(myvar)"
      ],
      "metadata": {
        "colab": {
          "base_uri": "https://localhost:8080/"
        },
        "id": "_mt_IV4j38D5",
        "outputId": "4dd9077e-104e-4c13-e976-c7aca15851a6"
      },
      "execution_count": null,
      "outputs": [
        {
          "output_type": "stream",
          "name": "stdout",
          "text": [
            "0    1\n",
            "1    7\n",
            "2    2\n",
            "dtype: int64\n"
          ]
        }
      ]
    },
    {
      "cell_type": "code",
      "source": [
        "import pandas as pd\n",
        "\n",
        "a = [1.5, 7.5, 2.5]\n",
        "\n",
        "myvar = pd.Series(a)\n",
        "\n",
        "print(myvar)"
      ],
      "metadata": {
        "colab": {
          "base_uri": "https://localhost:8080/"
        },
        "id": "3AKWrpf539pu",
        "outputId": "68f919eb-6555-4425-d216-07e10248b746"
      },
      "execution_count": null,
      "outputs": [
        {
          "output_type": "stream",
          "name": "stdout",
          "text": [
            "0    1.5\n",
            "1    7.5\n",
            "2    2.5\n",
            "dtype: float64\n"
          ]
        }
      ]
    },
    {
      "cell_type": "code",
      "source": [
        "import pandas as pd\n",
        "\n",
        "a = [1.5, 7.5, 2.5]\n",
        "\n",
        "myvar = pd.Series(a)\n",
        "\n",
        "print(myvar[0])"
      ],
      "metadata": {
        "colab": {
          "base_uri": "https://localhost:8080/"
        },
        "id": "qIDlA1dm6802",
        "outputId": "4103256b-5e61-4d2b-ce49-a553eb45796e"
      },
      "execution_count": null,
      "outputs": [
        {
          "output_type": "stream",
          "name": "stdout",
          "text": [
            "1.5\n"
          ]
        }
      ]
    },
    {
      "cell_type": "markdown",
      "source": [
        "**Example 3**"
      ],
      "metadata": {
        "id": "Nw0-zc0H8joG"
      }
    },
    {
      "cell_type": "code",
      "source": [
        "import pandas as pd\n",
        "\n",
        "data = {\n",
        "    \"age\": [42, 38, 39],\n",
        "    \"weight\": [50, 40,45]\n",
        "}\n",
        "myvar = pd.DataFrame(data)\n",
        "print (myvar)"
      ],
      "metadata": {
        "colab": {
          "base_uri": "https://localhost:8080/"
        },
        "id": "KhEB3bC_8Sjv",
        "outputId": "a7fcbbf3-a81a-4c3a-9da9-574fcd5a7a5e"
      },
      "execution_count": null,
      "outputs": [
        {
          "output_type": "stream",
          "name": "stdout",
          "text": [
            "   age  weight\n",
            "0   42      50\n",
            "1   38      40\n",
            "2   39      45\n"
          ]
        }
      ]
    },
    {
      "cell_type": "code",
      "source": [
        "import pandas as pd\n",
        "\n",
        "data = {\n",
        "    \"age\": [42, 38, 39],\n",
        "    \"weight\": [50, 40,45]\n",
        "}\n",
        "myvar = pd.DataFrame(data)\n",
        "print(myvar.loc[0])\n",
        "print(myvar.loc[[0, 1]])\n",
        "print(myvar.loc[[0, 1, 2]])"
      ],
      "metadata": {
        "colab": {
          "base_uri": "https://localhost:8080/"
        },
        "id": "noyvI80e9nCA",
        "outputId": "582d8048-91e1-4bbf-bd2b-018c942f32fd"
      },
      "execution_count": null,
      "outputs": [
        {
          "output_type": "stream",
          "name": "stdout",
          "text": [
            "age       42\n",
            "weight    50\n",
            "Name: 0, dtype: int64\n",
            "   age  weight\n",
            "0   42      50\n",
            "1   38      40\n",
            "   age  weight\n",
            "0   42      50\n",
            "1   38      40\n",
            "2   39      45\n"
          ]
        }
      ]
    },
    {
      "cell_type": "markdown",
      "source": [
        "**Example 4**"
      ],
      "metadata": {
        "id": "5Wn96M73A3NR"
      }
    },
    {
      "cell_type": "code",
      "source": [
        "import pandas as pd\n",
        "\n",
        "s1 = pd.Series([0,4,8])\n",
        "s2 = pd.Series([1,5,9])\n",
        "s3 = pd.Series([2,6,10])\n",
        "\n",
        "dframe = pd.DataFrame([s1,s2,s3])\n",
        "\n",
        "print(dframe)"
      ],
      "metadata": {
        "colab": {
          "base_uri": "https://localhost:8080/"
        },
        "id": "azVo76UfA5Uo",
        "outputId": "e1b5480d-51cb-419c-bf45-d9afdfcc323f"
      },
      "execution_count": null,
      "outputs": [
        {
          "output_type": "stream",
          "name": "stdout",
          "text": [
            "   0  1   2\n",
            "0  0  4   8\n",
            "1  1  5   9\n",
            "2  2  6  10\n"
          ]
        }
      ]
    },
    {
      "cell_type": "markdown",
      "source": [
        "**Example 5**"
      ],
      "metadata": {
        "id": "342UCV0cIeS7"
      }
    },
    {
      "cell_type": "code",
      "source": [
        "import pandas as pd\n",
        "s1 = pd.Series([0,4,8])\n",
        "s2 = pd.Series([1,5,9])\n",
        "s3 = pd.Series([2,6,10])\n",
        "s4 = pd.Series([5,10,15])\n",
        "\n",
        "#creating multi-dimensional table\n",
        "dframe = pd.DataFrame([s1,s2,s3,s4],index =[0,1,2,3], columns =[0,1,2])\n",
        "print(dframe)"
      ],
      "metadata": {
        "colab": {
          "base_uri": "https://localhost:8080/"
        },
        "id": "CLm0btRTIgmD",
        "outputId": "8fab2a98-50da-490c-b455-777a9dbb109d"
      },
      "execution_count": null,
      "outputs": [
        {
          "output_type": "stream",
          "name": "stdout",
          "text": [
            "   0   1   2\n",
            "0  0   4   8\n",
            "1  1   5   9\n",
            "2  2   6  10\n",
            "3  5  10  15\n"
          ]
        }
      ]
    }
  ]
}