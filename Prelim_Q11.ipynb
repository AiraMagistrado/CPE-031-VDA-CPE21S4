{
  "nbformat": 4,
  "nbformat_minor": 0,
  "metadata": {
    "colab": {
      "provenance": []
    },
    "kernelspec": {
      "name": "python3",
      "display_name": "Python 3"
    },
    "language_info": {
      "name": "python"
    }
  },
  "cells": [
    {
      "cell_type": "code",
      "execution_count": 1,
      "metadata": {
        "colab": {
          "base_uri": "https://localhost:8080/"
        },
        "id": "G9Okn4_RNlTx",
        "outputId": "08d5ec0a-f53a-4daa-c712-f9996dd7d830"
      },
      "outputs": [
        {
          "output_type": "stream",
          "name": "stdout",
          "text": [
            "    x   y   z\n",
            "0  78  84  86\n",
            "1  85  94  97\n",
            "2  96  89  96\n",
            "3  80  83  72\n",
            "4  86  86  83\n"
          ]
        }
      ],
      "source": [
        "import pandas as pd\n",
        "\n",
        "data = {'x': [78, 85, 96, 80, 86], 'y': [84, 94, 89, 83, 86],  'z': [86, 97, 96, 72, 83]}\n",
        "\n",
        "myvar = pd.DataFrame(data)\n",
        "print(myvar)"
      ]
    }
  ]
}