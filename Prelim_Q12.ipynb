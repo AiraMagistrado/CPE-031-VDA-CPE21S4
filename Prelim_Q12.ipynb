{
  "nbformat": 4,
  "nbformat_minor": 0,
  "metadata": {
    "colab": {
      "provenance": []
    },
    "kernelspec": {
      "name": "python3",
      "display_name": "Python 3"
    },
    "language_info": {
      "name": "python"
    }
  },
  "cells": [
    {
      "cell_type": "code",
      "source": [
        "import pandas as pd\n",
        "\n",
        "print(\"Original DataFrame\")\n",
        "data = {'col 1': [1, 4, 3, 4, 5], 'col 2': [4, 5, 6, 7, 8],  'col3': [7, 8, 9, 0, 1]}\n",
        "\n",
        "myvar = pd.DataFrame(data)\n",
        "print(myvar)"
      ],
      "metadata": {
        "colab": {
          "base_uri": "https://localhost:8080/"
        },
        "id": "cTSpSlepNyxu",
        "outputId": "2c32bbd7-d310-4c18-974b-97286fcd8b8c"
      },
      "execution_count": 1,
      "outputs": [
        {
          "output_type": "stream",
          "name": "stdout",
          "text": [
            "Original DataFrame\n",
            "   col 1  col 2  col3\n",
            "0      1      4     7\n",
            "1      4      5     8\n",
            "2      3      6     9\n",
            "3      4      7     0\n",
            "4      5      8     1\n"
          ]
        }
      ]
    },
    {
      "cell_type": "code",
      "source": [
        "import pandas as pd\n",
        "\n",
        "print(\"New DataFrame\")\n",
        "data = {'col 1': [1, 4, 3, 4, 5], 'col 2': [4, 5, 6, 7, 8],  'col3': [7, 8, 9, 0, 1]}\n",
        "\n",
        "myvar = pd.DataFrame(data)\n",
        "\n",
        "myvar = myvar.drop(1)\n",
        "print(myvar)"
      ],
      "metadata": {
        "colab": {
          "base_uri": "https://localhost:8080/"
        },
        "id": "5gJmD2HkN04d",
        "outputId": "38171aba-4b92-467b-f0c5-32492ec5aef1"
      },
      "execution_count": 2,
      "outputs": [
        {
          "output_type": "stream",
          "name": "stdout",
          "text": [
            "New DataFrame\n",
            "   col 1  col 2  col3\n",
            "0      1      4     7\n",
            "2      3      6     9\n",
            "3      4      7     0\n",
            "4      5      8     1\n"
          ]
        }
      ]
    },
    {
      "cell_type": "code",
      "source": [
        "import pandas as pd\n",
        "\n",
        "print(\"Original DataFrame\")\n",
        "data = {'col 1': [1, 4, 3, 4, 5], 'col 2': [4, 5, 6, 7, 8],  'col3': [7, 8, 9, 0, 1]}\n",
        "\n",
        "myvar = pd.DataFrame(data)\n",
        "print(myvar)\n",
        "\n",
        "print(\"New DataFrame\")\n",
        "myvar = myvar.drop(1)\n",
        "print(myvar)"
      ],
      "metadata": {
        "colab": {
          "base_uri": "https://localhost:8080/"
        },
        "id": "qrccuz_TN2Pt",
        "outputId": "90d986b0-923d-4c9a-9b0c-c68ae6a8d339"
      },
      "execution_count": 3,
      "outputs": [
        {
          "output_type": "stream",
          "name": "stdout",
          "text": [
            "Original DataFrame\n",
            "   col 1  col 2  col3\n",
            "0      1      4     7\n",
            "1      4      5     8\n",
            "2      3      6     9\n",
            "3      4      7     0\n",
            "4      5      8     1\n",
            "New DataFrame\n",
            "   col 1  col 2  col3\n",
            "0      1      4     7\n",
            "2      3      6     9\n",
            "3      4      7     0\n",
            "4      5      8     1\n"
          ]
        }
      ]
    }
  ]
}